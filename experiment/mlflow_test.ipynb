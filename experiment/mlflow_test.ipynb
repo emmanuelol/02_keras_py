{
 "cells": [
  {
   "cell_type": "code",
   "execution_count": 1,
   "metadata": {},
   "outputs": [
    {
     "name": "stdout",
     "output_type": "stream",
     "text": [
      "/c/Users/shingo/jupyter_notebook/tf_2_work/mlflow_test\n"
     ]
    },
    {
     "data": {
      "text/plain": [
       "'C:\\\\Users\\\\shingo\\\\Anaconda3\\\\envs\\\\tfgpu20\\\\python.exe'"
      ]
     },
     "execution_count": 1,
     "metadata": {},
     "output_type": "execute_result"
    }
   ],
   "source": [
    "!pwd\n",
    "import sys\n",
    "sys.executable"
   ]
  },
  {
   "cell_type": "markdown",
   "metadata": {},
   "source": [
    "### quickstart\n",
    "- https://www.mlflow.org/docs/latest/quickstart.html\n",
    "```\n",
    "$ activate mlflow\n",
    "$ cd C:\\Users\\shingo\\jupyter_notebook\\tf_2_work\\mlflow_test\n",
    "$ mlflow ui\n",
    "```"
   ]
  },
  {
   "cell_type": "code",
   "execution_count": 2,
   "metadata": {},
   "outputs": [],
   "source": [
    "import os\n",
    "from mlflow import log_metric, log_param, log_artifact\n",
    "\n",
    "if __name__ == \"__main__\":\n",
    "    # Log a parameter (key-value pair)\n",
    "    log_param(\"param1\", 5)\n",
    "\n",
    "    # Log a metric; metrics can be updated throughout the run\n",
    "    log_metric(\"foo\", 1)\n",
    "    log_metric(\"foo\", 2)\n",
    "    log_metric(\"foo\", 3)\n",
    "\n",
    "    # Log an artifact (output file)\n",
    "    with open(\"output.txt\", \"w\") as f:\n",
    "        f.write(\"Hello world!\")\n",
    "    log_artifact(\"output.txt\")"
   ]
  },
  {
   "cell_type": "code",
   "execution_count": null,
   "metadata": {},
   "outputs": [],
   "source": []
  },
  {
   "cell_type": "code",
   "execution_count": 3,
   "metadata": {},
   "outputs": [
    {
     "data": {
      "application/vnd.jupyter.widget-view+json": {
       "model_id": "8f83f07e2e774b3b9b8cbaaf5b2b9a39",
       "version_major": 2,
       "version_minor": 0
      },
      "text/plain": [
       "HBox(children=(FloatProgress(value=0.0, max=5.0), HTML(value='')))"
      ]
     },
     "metadata": {},
     "output_type": "display_data"
    },
    {
     "name": "stdout",
     "output_type": "stream",
     "text": [
      "WARNING:tensorflow:Layer conv2d is casting an input tensor from dtype float64 to the layer's dtype of float32, which is new behavior in TensorFlow 2.  The layer has dtype float32 because it's dtype defaults to floatx.\n",
      "\n",
      "If you intended to run this layer in float32, you can safely ignore this warning. If in doubt, this warning is likely only an issue if you are porting a TensorFlow 1.X model to TensorFlow 2.\n",
      "\n",
      "To change all layers to have dtype float64 by default, call `tf.keras.backend.set_floatx('float64')`. To change just this layer, pass dtype='float64' to the layer constructor. If you are the author of this layer, you can disable autocasting by passing autocast=False to the base Layer constructor.\n",
      "\n"
     ]
    },
    {
     "name": "stderr",
     "output_type": "stream",
     "text": [
      "C:\\Users\\shingo\\Anaconda3\\envs\\tfgpu20\\lib\\site-packages\\tensorflow_core\\python\\training\\tracking\\data_structures.py:669: DeprecationWarning: Using or importing the ABCs from 'collections' instead of from 'collections.abc' is deprecated since Python 3.3,and in 3.9 it will stop working\n",
      "  if not isinstance(wrapped_dict, collections.Mapping):\n"
     ]
    },
    {
     "name": "stdout",
     "output_type": "stream",
     "text": [
      "epoch:0 [val_loss, val_acc]:[0.0598333622940816, 0.9798]\n",
      "epoch:1 [val_loss, val_acc]:[0.03849499465520494, 0.9857]\n",
      "epoch:2 [val_loss, val_acc]:[0.03906193565651192, 0.9864]\n",
      "epoch:3 [val_loss, val_acc]:[0.04246286686105596, 0.987]\n",
      "epoch:4 [val_loss, val_acc]:[0.0491796516071674, 0.9858]\n",
      "\n",
      "Wall time: 53.2 s\n"
     ]
    }
   ],
   "source": [
    "%%time\n",
    "# MNISTの分類\n",
    "\n",
    "import tensorflow as tf\n",
    "from tensorflow.keras.datasets import mnist\n",
    "from tensorflow.keras.optimizers import Adam\n",
    "from tensorflow.keras.initializers import RandomNormal # 正規分布でテンソルを生成する初期化子\n",
    "from tensorflow.keras.layers import Conv2D, Flatten, Dense, Dropout, MaxPooling2D\n",
    "from tensorflow.keras.models import Sequential\n",
    "\n",
    "import math\n",
    "import numpy as np\n",
    "from tqdm.notebook import tqdm\n",
    "\n",
    "class TfMnist():\n",
    "    \"\"\" tf.GradientTapeを使ったMNIST \"\"\"\n",
    "    def __init__(self, params, width=28, height=28, depth=1, n_class=10):\n",
    "        self.width = width\n",
    "        self.height = height\n",
    "        self.depth = depth\n",
    "        self.n_class = n_class\n",
    "        self.params = params\n",
    "        self.optimizer = params['optimizer']\n",
    "        self.model = self.build_model((self.width, self.height, self.depth)\n",
    "                                      , self.n_class\n",
    "                                      , params['weight_init'])\n",
    "\n",
    "    def build_model(self, input_shape, n_class, weight_init):\n",
    "        model = Sequential()\n",
    "        model.add(Conv2D(32, kernel_size=(3, 3), activation='relu'\n",
    "                         , kernel_initializer=weight_init\n",
    "                         , input_shape=input_shape))\n",
    "        model.add(Conv2D(64, (3, 3), activation='relu'\n",
    "                         , kernel_initializer=weight_init))\n",
    "        model.add(MaxPooling2D(pool_size=(2, 2)))\n",
    "        model.add(Dropout(0.25))\n",
    "        model.add(Flatten())\n",
    "        model.add(Dense(128, activation='relu'\n",
    "                        , kernel_initializer=weight_init))\n",
    "        model.add(Dropout(0.5))\n",
    "        model.add(Dense(n_class, activation='softmax'\n",
    "                        , kernel_initializer=weight_init))\n",
    "        return model\n",
    "\n",
    "    def step(self, real_x, real_y):\n",
    "        with tf.GradientTape() as tape:\n",
    "            # Make prediction\n",
    "            pred_y = self.model(real_x.reshape((-1, self.width, self.height, self.depth)))\n",
    "            # Calculate loss\n",
    "            model_loss = tf.keras.losses.categorical_crossentropy(real_y, pred_y)\n",
    "\n",
    "        # Calculate gradients\n",
    "        model_gradients = tape.gradient(model_loss, self.model.trainable_variables)\n",
    "        # Update model\n",
    "        self.optimizer.apply_gradients(zip(model_gradients, self.model.trainable_variables))\n",
    "\n",
    "    def main(self):\n",
    "        # Load and pre-process training data\n",
    "        (x_train, y_train), (x_test, y_test) = mnist.load_data()\n",
    "        x_train = (x_train / 255).reshape((-1, self.width, self.height, self.depth))\n",
    "        y_train = tf.keras.utils.to_categorical(y_train, self.n_class)\n",
    "        x_test = (x_test / 255).reshape((-1, self.width, self.height, self.depth))\n",
    "        y_test = tf.keras.utils.to_categorical(y_test, self.n_class)\n",
    "        \n",
    "        batch_size = self.params['batch_size']\n",
    "        epochs = self.params['epochs']\n",
    "        \n",
    "        # Training loop\n",
    "        bat_per_epoch = math.floor(len(x_train) / batch_size)\n",
    "        for epoch in tqdm(range(epochs)):\n",
    "            for i in range(bat_per_epoch):\n",
    "                n = i*batch_size\n",
    "                self.step(x_train[n:n+batch_size], y_train[n:n+batch_size])\n",
    "\n",
    "            # Calculate accuracy\n",
    "            self.model.compile(optimizer=self.optimizer\n",
    "                               , loss=tf.keras.losses.categorical_crossentropy\n",
    "                               , metrics=['acc']) # Compile just for evaluation\n",
    "            print(f\"epoch:{epoch} [val_loss, val_acc]:{self.model.evaluate(x_test, y_test, verbose=0)}\")\n",
    "        return self.model\n",
    "        \n",
    "# Hyperparameters\n",
    "params = {'batch_size':128\n",
    "          , 'epochs':5\n",
    "          , 'optimizer':Adam(lr=0.001)\n",
    "          , 'weight_init':RandomNormal()\n",
    "         }\n",
    "model = TfMnist(params).main()\n"
   ]
  },
  {
   "cell_type": "code",
   "execution_count": null,
   "metadata": {},
   "outputs": [],
   "source": []
  },
  {
   "cell_type": "markdown",
   "metadata": {},
   "source": [
    "## TensorFlow2.0で訓練の途中に学習率を変える方法\n",
    "- https://blog.shikoan.com/how-to-change-learningrate-in-tensorflow2-0/"
   ]
  },
  {
   "cell_type": "code",
   "execution_count": 4,
   "metadata": {},
   "outputs": [
    {
     "name": "stdout",
     "output_type": "stream",
     "text": [
      "Train on 60000 samples, validate on 10000 samples\n",
      "Epoch 1/5\n",
      "60000/60000 [==============================] - 2s 31us/sample - loss: 0.4328 - sparse_categorical_accuracy: 0.8776 - val_loss: 0.2285 - val_sparse_categorical_accuracy: 0.9331\n",
      "Epoch 2/5\n",
      "60000/60000 [==============================] - 1s 22us/sample - loss: 0.2100 - sparse_categorical_accuracy: 0.9386 - val_loss: 0.1733 - val_sparse_categorical_accuracy: 0.9472\n",
      "Epoch 3/5\n",
      "60000/60000 [==============================] - 1s 22us/sample - loss: 0.1570 - sparse_categorical_accuracy: 0.9543 - val_loss: 0.1383 - val_sparse_categorical_accuracy: 0.9582\n",
      "Epoch 4/5\n",
      "60000/60000 [==============================] - 1s 22us/sample - loss: 0.1262 - sparse_categorical_accuracy: 0.9626 - val_loss: 0.1276 - val_sparse_categorical_accuracy: 0.9616\n",
      "Epoch 5/5\n",
      "60000/60000 [==============================] - 1s 22us/sample - loss: 0.1051 - sparse_categorical_accuracy: 0.9688 - val_loss: 0.1083 - val_sparse_categorical_accuracy: 0.9665\n"
     ]
    }
   ],
   "source": [
    "# 従来どおりLearning Rate Scheduler\n",
    "\n",
    "import tensorflow as tf\n",
    "import tensorflow.keras.layers as layers\n",
    "import numpy as np\n",
    "\n",
    "def create_model():\n",
    "    inputs = layers.Input((784,))\n",
    "    x = layers.Dense(128, activation=\"relu\")(inputs)\n",
    "    x = layers.Dense(64, activation=\"relu\")(x)\n",
    "    x = layers.Dense(10, activation=\"softmax\")(x)\n",
    "    return tf.keras.models.Model(inputs, x)\n",
    "\n",
    "def load_data():\n",
    "    (X_train, y_train), (X_test, y_test) = tf.keras.datasets.mnist.load_data()\n",
    "    X_train = X_train.astype(np.float32).reshape(-1, 784) / 255.0\n",
    "    X_test = X_test.astype(np.float32).reshape(-1, 784) / 255.0\n",
    "    return (X_train, y_train), (X_test, y_test)\n",
    "\n",
    "def main_keras():\n",
    "    (X_train, y_train), (X_test, y_test) = load_data()\n",
    "    model = create_model()\n",
    "    model.compile(optimizer=tf.keras.optimizers.SGD(lr=0.1),\n",
    "                  loss=tf.keras.losses.SparseCategoricalCrossentropy(),\n",
    "                  metrics=[tf.keras.metrics.SparseCategoricalAccuracy()])\n",
    "\n",
    "    # Learning Rate Schedulerに食わせるための関数\n",
    "    def lr_scheduler(epoch):\n",
    "        if epoch <= 5: return 0.1\n",
    "        else: return 1e-8\n",
    "\n",
    "    lr_callback = tf.keras.callbacks.LearningRateScheduler(lr_scheduler)\n",
    "    model.fit(X_train, y_train, validation_data=(X_test, y_test), epochs=5, batch_size=128,\n",
    "              callbacks=[lr_callback])\n",
    "    \n",
    "main_keras()"
   ]
  },
  {
   "cell_type": "code",
   "execution_count": 5,
   "metadata": {},
   "outputs": [
    {
     "data": {
      "application/vnd.jupyter.widget-view+json": {
       "model_id": "ecfa5849ba4340c7bbd70fe7c76ea022",
       "version_major": 2,
       "version_minor": 0
      },
      "text/plain": [
       "HBox(children=(FloatProgress(value=0.0, max=10.0), HTML(value='')))"
      ]
     },
     "metadata": {},
     "output_type": "display_data"
    },
    {
     "name": "stdout",
     "output_type": "stream",
     "text": [
      "Epoch = 1, train_loss = 0.4646, train_acc = 0.4646, val_loss = 0.2459, val_acc=0.9292, lr=1.00e-01\n",
      "INFO: save model. [D:\\work\\tmp\\tfminst\\best_val_loss.h5]\n",
      "Epoch = 2, train_loss = 0.2215, train_acc = 0.2215, val_loss = 0.1863, val_acc=0.9452, lr=9.76e-02\n",
      "INFO: save model. [D:\\work\\tmp\\tfminst\\best_val_loss.h5]\n",
      "Epoch = 3, train_loss = 0.1661, train_acc = 0.1661, val_loss = 0.154, val_acc=0.9543, lr=9.05e-02\n",
      "INFO: save model. [D:\\work\\tmp\\tfminst\\best_val_loss.h5]\n",
      "Epoch = 4, train_loss = 0.1343, train_acc = 0.1343, val_loss = 0.1397, val_acc=0.9563, lr=7.96e-02\n",
      "INFO: save model. [D:\\work\\tmp\\tfminst\\best_val_loss.h5]\n",
      "Epoch = 5, train_loss = 0.1147, train_acc = 0.1147, val_loss = 0.1165, val_acc=0.9665, lr=6.58e-02\n",
      "INFO: save model. [D:\\work\\tmp\\tfminst\\best_val_loss.h5]\n",
      "Epoch = 6, train_loss = 0.09998, train_acc = 0.09998, val_loss = 0.1102, val_acc=0.9676, lr=5.05e-02\n",
      "INFO: save model. [D:\\work\\tmp\\tfminst\\best_val_loss.h5]\n",
      "Epoch = 7, train_loss = 0.09071, train_acc = 0.09071, val_loss = 0.1056, val_acc=0.9696, lr=3.52e-02\n",
      "INFO: save model. [D:\\work\\tmp\\tfminst\\best_val_loss.h5]\n",
      "Epoch = 8, train_loss = 0.08433, train_acc = 0.08433, val_loss = 0.1039, val_acc=0.9693, lr=2.14e-02\n",
      "INFO: save model. [D:\\work\\tmp\\tfminst\\best_val_loss.h5]\n",
      "Epoch = 9, train_loss = 0.08063, train_acc = 0.08063, val_loss = 0.1012, val_acc=0.9701, lr=1.05e-02\n",
      "INFO: save model. [D:\\work\\tmp\\tfminst\\best_val_loss.h5]\n",
      "Epoch = 10, train_loss = 0.07864, train_acc = 0.07864, val_loss = 0.1008, val_acc=0.9703, lr=3.42e-03\n",
      "INFO: save model. [D:\\work\\tmp\\tfminst\\best_val_loss.h5]\n",
      "\n"
     ]
    },
    {
     "data": {
      "text/html": [
       "<div>\n",
       "<style scoped>\n",
       "    .dataframe tbody tr th:only-of-type {\n",
       "        vertical-align: middle;\n",
       "    }\n",
       "\n",
       "    .dataframe tbody tr th {\n",
       "        vertical-align: top;\n",
       "    }\n",
       "\n",
       "    .dataframe thead th {\n",
       "        text-align: right;\n",
       "    }\n",
       "</style>\n",
       "<table border=\"1\" class=\"dataframe\">\n",
       "  <thead>\n",
       "    <tr style=\"text-align: right;\">\n",
       "      <th></th>\n",
       "      <th>epoch</th>\n",
       "      <th>loss</th>\n",
       "      <th>acc</th>\n",
       "      <th>val_loss</th>\n",
       "      <th>val_acc</th>\n",
       "      <th>lr</th>\n",
       "    </tr>\n",
       "  </thead>\n",
       "  <tbody>\n",
       "    <tr>\n",
       "      <th>0</th>\n",
       "      <td>1.0</td>\n",
       "      <td>0.464580</td>\n",
       "      <td>0.868817</td>\n",
       "      <td>0.245874</td>\n",
       "      <td>0.9292</td>\n",
       "      <td>0.100000</td>\n",
       "    </tr>\n",
       "    <tr>\n",
       "      <th>1</th>\n",
       "      <td>2.0</td>\n",
       "      <td>0.221479</td>\n",
       "      <td>0.936000</td>\n",
       "      <td>0.186292</td>\n",
       "      <td>0.9452</td>\n",
       "      <td>0.097577</td>\n",
       "    </tr>\n",
       "    <tr>\n",
       "      <th>2</th>\n",
       "      <td>3.0</td>\n",
       "      <td>0.166141</td>\n",
       "      <td>0.951600</td>\n",
       "      <td>0.153954</td>\n",
       "      <td>0.9543</td>\n",
       "      <td>0.090546</td>\n",
       "    </tr>\n",
       "    <tr>\n",
       "      <th>3</th>\n",
       "      <td>4.0</td>\n",
       "      <td>0.134303</td>\n",
       "      <td>0.961567</td>\n",
       "      <td>0.139726</td>\n",
       "      <td>0.9563</td>\n",
       "      <td>0.079595</td>\n",
       "    </tr>\n",
       "    <tr>\n",
       "      <th>4</th>\n",
       "      <td>5.0</td>\n",
       "      <td>0.114672</td>\n",
       "      <td>0.966817</td>\n",
       "      <td>0.116496</td>\n",
       "      <td>0.9665</td>\n",
       "      <td>0.065796</td>\n",
       "    </tr>\n",
       "    <tr>\n",
       "      <th>5</th>\n",
       "      <td>6.0</td>\n",
       "      <td>0.099983</td>\n",
       "      <td>0.971483</td>\n",
       "      <td>0.110247</td>\n",
       "      <td>0.9676</td>\n",
       "      <td>0.050500</td>\n",
       "    </tr>\n",
       "    <tr>\n",
       "      <th>6</th>\n",
       "      <td>7.0</td>\n",
       "      <td>0.090713</td>\n",
       "      <td>0.974350</td>\n",
       "      <td>0.105589</td>\n",
       "      <td>0.9696</td>\n",
       "      <td>0.035204</td>\n",
       "    </tr>\n",
       "    <tr>\n",
       "      <th>7</th>\n",
       "      <td>8.0</td>\n",
       "      <td>0.084325</td>\n",
       "      <td>0.976000</td>\n",
       "      <td>0.103865</td>\n",
       "      <td>0.9693</td>\n",
       "      <td>0.021405</td>\n",
       "    </tr>\n",
       "    <tr>\n",
       "      <th>8</th>\n",
       "      <td>9.0</td>\n",
       "      <td>0.080630</td>\n",
       "      <td>0.977817</td>\n",
       "      <td>0.101224</td>\n",
       "      <td>0.9701</td>\n",
       "      <td>0.010454</td>\n",
       "    </tr>\n",
       "    <tr>\n",
       "      <th>9</th>\n",
       "      <td>10.0</td>\n",
       "      <td>0.078644</td>\n",
       "      <td>0.978033</td>\n",
       "      <td>0.100786</td>\n",
       "      <td>0.9703</td>\n",
       "      <td>0.003423</td>\n",
       "    </tr>\n",
       "  </tbody>\n",
       "</table>\n",
       "</div>"
      ],
      "text/plain": [
       "   epoch      loss       acc  val_loss  val_acc        lr\n",
       "0    1.0  0.464580  0.868817  0.245874   0.9292  0.100000\n",
       "1    2.0  0.221479  0.936000  0.186292   0.9452  0.097577\n",
       "2    3.0  0.166141  0.951600  0.153954   0.9543  0.090546\n",
       "3    4.0  0.134303  0.961567  0.139726   0.9563  0.079595\n",
       "4    5.0  0.114672  0.966817  0.116496   0.9665  0.065796\n",
       "5    6.0  0.099983  0.971483  0.110247   0.9676  0.050500\n",
       "6    7.0  0.090713  0.974350  0.105589   0.9696  0.035204\n",
       "7    8.0  0.084325  0.976000  0.103865   0.9693  0.021405\n",
       "8    9.0  0.080630  0.977817  0.101224   0.9701  0.010454\n",
       "9   10.0  0.078644  0.978033  0.100786   0.9703  0.003423"
      ]
     },
     "execution_count": 5,
     "metadata": {},
     "output_type": "execute_result"
    }
   ],
   "source": [
    "import os\n",
    "import pandas as pd\n",
    "from tqdm.notebook import tqdm\n",
    "\n",
    "def cosine_annealing(lr_start, epoch:int, epochs:int, factor=0.01):\n",
    "    \"\"\"Cosine Annealing (without restart)\"\"\"\n",
    "    lr_min = lr_start * factor\n",
    "    r = (epoch + 1) / epochs\n",
    "    return lr_min + 0.5 * (lr_start - lr_min) * (1 + np.cos(np.pi * r))\n",
    "\n",
    "def main_train_loop(output_dir):\n",
    "    (X_train, y_train), (X_test, y_test) = load_data()\n",
    "\n",
    "    trainset = tf.data.Dataset.from_tensor_slices((X_train, y_train))\n",
    "    trainset = trainset.shuffle(X_train.shape[0]).batch(128)\n",
    "\n",
    "    testset = tf.data.Dataset.from_tensor_slices((X_test, y_test))\n",
    "    testset = testset.batch(128)\n",
    "\n",
    "    model = create_model()\n",
    "    optim = tf.keras.optimizers.SGD(lr=0.1)\n",
    "    loss_func = tf.keras.losses.SparseCategoricalCrossentropy()\n",
    "    acc = tf.keras.metrics.SparseCategoricalAccuracy()\n",
    "\n",
    "    df_log = pd.DataFrame(columns=['epoch', 'loss', 'acc', 'val_loss', 'val_acc', 'lr'])\n",
    "    early_stopping_count = 0\n",
    "    \n",
    "    @tf.function\n",
    "    def train_on_batch(X, y_true):\n",
    "        with tf.GradientTape() as tape:\n",
    "            y_pred = model(X, training=True)\n",
    "            loss = loss_func(y_true, y_pred)\n",
    "        grad = tape.gradient(loss, model.trainable_weights)\n",
    "        optim.apply_gradients(zip(grad, model.trainable_weights))\n",
    "        acc.update_state(y_true, y_pred)\n",
    "        return loss\n",
    "\n",
    "    @tf.function\n",
    "    def validation_on_batch(X, y_true):\n",
    "        y_pred = model(X, training=False)\n",
    "        loss = loss_func(y_true, y_pred)\n",
    "        acc.update_state(y_true, y_pred)\n",
    "        return loss\n",
    "\n",
    "    for epoch in tqdm(range(10)):\n",
    "        acc.reset_states()\n",
    "        losses = []\n",
    "        for X, y in trainset:\n",
    "            losses.append(train_on_batch(X, y).numpy())\n",
    "        train_loss, train_acc = np.mean(np.array(losses)), acc.result().numpy()\n",
    "\n",
    "        acc.reset_states()\n",
    "        losses = []\n",
    "        for X, y in testset:\n",
    "            losses.append(validation_on_batch(X, y).numpy())\n",
    "        val_loss, val_acc = np.mean(np.array(losses)), acc.result().numpy()\n",
    "        print(f\"Epoch = {epoch+1}, train_loss = {train_loss:.04}, train_acc = {train_loss:.04}, \" +\n",
    "              f\"val_loss = {val_loss:.04}, val_acc={val_acc:.04}, lr={optim.lr.numpy():.2e}\")\n",
    "\n",
    "        df_log = df_log.append(pd.Series([epoch+1\n",
    "                                          , train_loss, train_acc\n",
    "                                          , val_loss, val_acc\n",
    "                                          , optim.lr.numpy()], index=df_log.columns)\n",
    "                               , ignore_index=True)\n",
    "        df_log.to_csv(os.path.join(output_dir, 'tsv_logger.tsv'), index=False, sep='\\t')\n",
    "        \n",
    "        # change learning rate\n",
    "        #if epoch >= 5: optim.lr = 1e-8\n",
    "        optim.lr = cosine_annealing(0.1, epoch, 10)\n",
    "            \n",
    "        if np.min(df_log['val_loss']) >= val_loss: \n",
    "            model.save(os.path.join(output_dir, 'best_val_loss.h5'))\n",
    "            early_stopping_count = 0\n",
    "            print(\"INFO: save model. [{}]\".format(os.path.join(output_dir, 'best_val_loss.h5')))\n",
    "        else:\n",
    "            early_stopping_count += 1\n",
    "        \n",
    "        if early_stopping_count >= 3:\n",
    "            break\n",
    "    \n",
    "    return model, df_log\n",
    "\n",
    "output_dir = r'D:\\work\\tmp\\tfminst'\n",
    "model, df_log = main_train_loop(output_dir)\n",
    "df_log"
   ]
  },
  {
   "cell_type": "code",
   "execution_count": 6,
   "metadata": {},
   "outputs": [
    {
     "data": {
      "image/png": "[encoded data removed]",
      "text/plain": [
       "<Figure size 432x288 with 1 Axes>"
      ]
     },
     "metadata": {},
     "output_type": "display_data"
    },
    {
     "data": {
      "image/png": "[encoded data removed]",
      "text/plain": [
       "<Figure size 432x288 with 1 Axes>"
      ]
     },
     "metadata": {},
     "output_type": "display_data"
    },
    {
     "data": {
      "image/png": "[encoded data removed]",
      "text/plain": [
       "<Figure size 432x288 with 1 Axes>"
      ]
     },
     "metadata": {},
     "output_type": "display_data"
    },
    {
     "data": {
      "image/png": "[encoded data removed]",
      "text/plain": [
       "<Figure size 432x288 with 1 Axes>"
      ]
     },
     "metadata": {},
     "output_type": "display_data"
    },
    {
     "data": {
      "image/png": "[encoded data removed]",
      "text/plain": [
       "<Figure size 432x288 with 1 Axes>"
      ]
     },
     "metadata": {},
     "output_type": "display_data"
    },
    {
     "data": {
      "image/png": "[encoded data removed]",
      "text/plain": [
       "<Figure size 432x288 with 1 Axes>"
      ]
     },
     "metadata": {},
     "output_type": "display_data"
    }
   ],
   "source": [
    "def save_df_plot(col, df, output_dir):\n",
    "    \"\"\" データフレームの各列をplotしてpngで保存 \"\"\"\n",
    "    import matplotlib\n",
    "    import matplotlib.pyplot as plt\n",
    "    plt.style.use('ggplot')\n",
    "    df[col].plot()\n",
    "    plt.xlabel('epoch')\n",
    "    plt.ylabel(col)\n",
    "    plt.savefig(os.path.join(output_dir, col+'.png'), bbox_inches=\"tight\")\n",
    "    plt.show()\n",
    "    \n",
    "for col in df_log.columns:\n",
    "    save_df_plot(col, df_log, output_dir)"
   ]
  },
  {
   "cell_type": "code",
   "execution_count": 7,
   "metadata": {
    "scrolled": false
   },
   "outputs": [
    {
     "name": "stdout",
     "output_type": "stream",
     "text": [
      "INFO: 'experiment' does not exist. Creating a new experiment\n"
     ]
    }
   ],
   "source": [
    "import mlflow\n",
    "import mlflow.keras\n",
    "\n",
    "def set_mlflow_param(output_dir, dict_log_metrics, model, exp_name='experiment'):#, my_IDG_options\n",
    "    \"\"\" \n",
    "    MLflowにパラメータを記録する \n",
    "    https://qiita.com/sumita_v09/items/174977f48c44244f9719\n",
    "    \"\"\"\n",
    "    \n",
    "    mlflow.set_experiment(exp_name)\n",
    "    with mlflow.start_run(nested=True):\n",
    "        # 辞書でまとめて記録\n",
    "        # log_metricsは数値以外いれるとエラー\n",
    "        mlflow.log_metrics(dict_log_metrics)\n",
    "        #mlflow.log_metrics(my_IDG_options)\n",
    "\n",
    "        # その他に保存したいものを記録する\n",
    "        # ./mlrunsにコピーされる。Dドライブのパスでもいけた\n",
    "        mlflow.log_artifact(os.path.join(output_dir, 'tsv_logger.tsv'))  # ファイルパスを与えてやる\n",
    "        mlflow.log_artifact(os.path.join(output_dir, 'val_acc.png'))\n",
    "        mlflow.log_artifact(os.path.join(output_dir, 'val_loss.png'))\n",
    "        mlflow.log_artifact(os.path.join(output_dir, 'lr.png'))\n",
    "        #mlflow.log_artifact(os.path.join(output_dir, 'CM_without_normalize.png'))\n",
    "\n",
    "        # kerasの場合、モデルをmlflow.kerasで保存できる\n",
    "        os.makedirs(os.path.join('models', 'data'), exist_ok=True)\n",
    "        mlflow.keras.log_model(model, 'models')\n",
    "    mlflow.search_runs()\n",
    "    \n",
    "dict_log_metrics = {'epoch':10, 'lr':0.1, 'cosine_annealing_factor':0.01}\n",
    "set_mlflow_param(output_dir, dict_log_metrics, model)"
   ]
  },
  {
   "cell_type": "code",
   "execution_count": 1,
   "metadata": {},
   "outputs": [],
   "source": [
    "import sys\n",
    "sys.path.append(r'C:\\Users\\shingo\\jupyter_notebook\\tfgpu_py36_work\\02_keras_py')\n",
    "from mlflow_util import ui\n",
    "\n",
    "output_dir = r'D:\\work\\tmp\\tfminst'\n",
    "dict_log_metrics = {'epoch':10, 'lr':0.1, 'cosine_annealing_factor':0.01}\n",
    "ui.keras_mlflow_param(output_dir, dict_log_metrics)\n"
   ]
  }
 ],
 "metadata": {
  "kernelspec": {
   "display_name": "Python 3",
   "language": "python",
   "name": "python3"
  },
  "language_info": {
   "codemirror_mode": {
    "name": "ipython",
    "version": 3
   },
   "file_extension": ".py",
   "mimetype": "text/x-python",
   "name": "python",
   "nbconvert_exporter": "python",
   "pygments_lexer": "ipython3",
   "version": "3.7.5"
  }
 },
 "nbformat": 4,
 "nbformat_minor": 2
}
