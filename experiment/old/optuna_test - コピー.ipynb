{
 "cells": [
  {
   "cell_type": "markdown",
   "metadata": {},
   "source": [
    "# optunaでパラメータチューニング\n",
    "### Objectiveクラスを定義し、独自の引数を持たせてoptuna実行"
   ]
  },
  {
   "cell_type": "markdown",
   "metadata": {},
   "source": [
    "import os  \n",
    "gpu_num = \"2,3\"  \n",
    "os.environ[\"CUDA_VISIBLE_DEVICES\"] = str(gpu_num)"
   ]
  },
  {
   "cell_type": "code",
   "execution_count": 1,
   "metadata": {
    "scrolled": false
   },
   "outputs": [
    {
     "name": "stdout",
     "output_type": "stream",
     "text": [
      "plot_log.py: loaded as module file\n",
      "prepare_data.py: loaded as module file\n",
      "util.py: loaded as module file\n",
      "plot_12task_log.py: loaded as module file\n"
     ]
    },
    {
     "name": "stderr",
     "output_type": "stream",
     "text": [
      "Using TensorFlow backend.\n"
     ]
    },
    {
     "name": "stdout",
     "output_type": "stream",
     "text": [
      "get_train_valid_test.py: loaded as module file\n",
      "my_generator.py: loaded as module file\n",
      "define_model.py: loaded as module file\n",
      "multi_loss.py: loaded as module file\n",
      "my_callback.py: loaded as module file\n",
      "my_metric.py: loaded as module file\n",
      "optuna_train_base.py: loaded as module file\n",
      "optuna_train.py: loaded as module file\n",
      "roc_curve.py: loaded as module file\n",
      "conf_matrix.py: loaded as module file\n",
      "multi_predict.py: loaded as module file\n",
      "grad_cam.py: loaded as module file\n",
      "ensemble_predict.py: loaded as module file\n",
      "base_predict.py: loaded as module file\n"
     ]
    }
   ],
   "source": [
    "# モジュールimport\n",
    "import os, sys\n",
    "current_dir = os.path.dirname(os.path.abspath(\"__file__\"))\n",
    "path = os.path.join(current_dir, '../')\n",
    "sys.path.append(path)\n",
    "from dataset import plot_log, prepare_data, util, plot_12task_log\n",
    "from transformer import get_train_valid_test, my_generator\n",
    "from model import define_model, multi_loss, my_callback, my_metric\n",
    "from tuning import optuna_train_base, optuna_train_Tox21\n",
    "from predicter import roc_curve, conf_matrix, multi_predict, grad_cam, ensemble_predict, base_predict\n",
    "\n",
    "import keras\n",
    "import keras.backend as K\n",
    "import matplotlib.pyplot as plt\n",
    "\n",
    "#sys.path.append(r'/home/tmp10014/jupyterhub/notebook/other/lib_DL/mixup-generator')\n",
    "#from random_eraser import get_random_eraser\n",
    "\n",
    "#sys.path.append(r'/home/aaa00162/jupyterhub/notebook/other/lib_DL/optuna-master')\n",
    "import optuna\n",
    "import numpy as np\n",
    "import shutil\n",
    "%matplotlib inline"
   ]
  },
  {
   "cell_type": "markdown",
   "metadata": {},
   "source": [
    "### 固定パラメータ\n",
    "- バッチサイズ\n",
    "- 出力ディレクトリ\n",
    "- 画像サイズ: 100x100\n",
    "- クラス数：5\n",
    "- エポック数\n",
    "- GPUの数\n",
    "- 損失関数\n",
    "- metrics\n",
    "- 出力層の活性化関数: sigmoid（マルチラベルなので）\n",
    "- 出力層の重みの初期値: zeros\n",
    "- 出力層のl2: 1e-4\n",
    "- FCのpooling方法: GlobalAveragePooling2D\n",
    "- callback\n",
    "    - keras.callbacks.TerminateOnNaN: lossがNaNになった時に訓練を終了する\n",
    "    - #keras.callbacks.ModelCheckpoint: val_loss最少になるモデルを保存する\n",
    "    - #keras.callbacks.EarlyStopping: val_lossが100エポック更新されなければ学習停止する\n",
    "    - cosine_annealing: lr*0.01\n",
    "    - keras.callbacks.CSVLogger: 各エポックの結果をcsvファイルに保存する\n",
    "    - my_callback.tsv_logger: 各エポックの結果をtsvファイルに保存する"
   ]
  },
  {
   "cell_type": "code",
   "execution_count": 2,
   "metadata": {},
   "outputs": [
    {
     "name": "stdout",
     "output_type": "stream",
     "text": [
      "gpu_count: 1\n",
      "[<keras.callbacks.TerminateOnNaN object at 0x0000021B84CCA320>, <keras.callbacks.EarlyStopping object at 0x0000021B84CCA390>, <keras.callbacks.CSVLogger object at 0x0000021B84CCA400>, <model.my_callback.tsv_logger.<locals>._TSVLogger object at 0x0000021B84CCA2E8>]\n"
     ]
    }
   ],
   "source": [
    "# batch_size\n",
    "train_batch_size=100\n",
    "valid_batch_size=100\n",
    "\n",
    "# 出力ディレクトリ\n",
    "out_dir = 'output_test_optuna/100x100'\n",
    "os.makedirs(out_dir, exist_ok=True)\n",
    "\n",
    "# 入力層のサイズ\n",
    "shape=[100, 100, 3]\n",
    "\n",
    "# クラス数\n",
    "num_classes=5\n",
    "\n",
    "# エポック数\n",
    "epochs=2\n",
    "\n",
    "# GPUの数\n",
    "gpu_num = '0'\n",
    "gpu_count=len(gpu_num.split(','))\n",
    "print('gpu_count:', gpu_count)\n",
    "\n",
    "# 損失関数\n",
    "loss = multi_loss.build_masked_loss(K.binary_crossentropy) \n",
    "\n",
    "# metrics\n",
    "metrics = ['accuracy', 'binary_accuracy', multi_loss.masked_accuracy]\n",
    "\n",
    "# 出力層の活性化関数\n",
    "activation = 'sigmoid'\n",
    "pred_kernel_initializer='zeros'\n",
    "pred_l2_rate=1e-4\n",
    "\n",
    "# pooling方法\n",
    "FCpool='GlobalAveragePooling2D'\n",
    "\n",
    "# callback\n",
    "cb_base = []\n",
    "if gpu_count > 1:\n",
    "    # batch_sizeは並列で処理を行うために元々のbatch_sizeをGPUの数だけ掛ける\n",
    "    train_batch_size = train_batch_size * gpu_count\n",
    "    valid_batch_size = valid_batch_size * gpu_count\n",
    "else:\n",
    "    cb_base.append(keras.callbacks.TerminateOnNaN())\n",
    "    # keras.callbacks.EarlyStopping\n",
    "    early_monitor='val_loss' # val_lossが100エポック更新されなければ学習停止する\n",
    "    early_stopping_pati=10\n",
    "    cb_base.append(keras.callbacks.EarlyStopping(monitor=early_monitor, patience=early_stopping_pati, verbose=1))\n",
    "    \n",
    "# 学習率をエポック増やすごとにコサインカーブのように上げ下げする\n",
    "## 引数なしならlr*0.01まで下げるだけ\n",
    "#cb_base.append(my_callback.cosine_annealing())\n",
    "\n",
    "cb_base.append(keras.callbacks.CSVLogger(os.path.join(out_dir, 'history.tsv'), separator='\\t'))\n",
    "cb_base.append(my_callback.tsv_logger(os.path.join(out_dir, 'tsv_logger.tsv')))\n",
    "print(cb_base)"
   ]
  },
  {
   "cell_type": "markdown",
   "metadata": {},
   "source": [
    "## マルチラベルサンプルデータ\n",
    "- https://blog.manash.me/multi-task-learning-in-keras-implementation-of-multi-task-classification-loss-f1d42da5c3f6\n",
    "- classes = np.array(['desert', 'mountain', 'sea', 'sunset', 'trees'])"
   ]
  },
  {
   "cell_type": "code",
   "execution_count": 3,
   "metadata": {},
   "outputs": [
    {
     "name": "stderr",
     "output_type": "stream",
     "text": [
      "C:\\Users\\shingo\\Anaconda3\\envs\\tfgpu_py36_v3\\lib\\site-packages\\h5py\\_hl\\dataset.py:313: H5pyDeprecationWarning:\n",
      "\n",
      "dataset.value has been deprecated. Use dataset[()] instead.\n",
      "\n"
     ]
    },
    {
     "name": "stdout",
     "output_type": "stream",
     "text": [
      "(1600, 100, 100, 3)\n",
      "(400, 100, 100, 3)\n"
     ]
    },
    {
     "data": {
      "image/png": "[encoded data removed]",
      "text/plain": [
       "<Figure size 432x288 with 1 Axes>"
      ]
     },
     "metadata": {
      "needs_background": "light"
     },
     "output_type": "display_data"
    }
   ],
   "source": [
    "# Downloading and Viewing the dataset\n",
    "\n",
    "import numpy as np\n",
    "import matplotlib.pyplot as plt\n",
    "import h5py\n",
    "from sklearn.model_selection import train_test_split\n",
    "#Jupyterでインライン表示するための宣言\n",
    "%matplotlib inline\n",
    "\n",
    "def load():\n",
    "    f = h5py.File(\"01_code_test/dataset.h5\")\n",
    "    x = f['x'].value\n",
    "    y = f['y'].value\n",
    "    f.close()\n",
    "    \n",
    "    x_train , x_test, y_train, y_test = train_test_split(x,y,test_size=0.2,random_state=100)\n",
    "    \n",
    "    # Making the data channel last\n",
    "    x_train = np.rollaxis(x_train, 1, 4)\n",
    "    x_test = np.rollaxis(x_test, 1, 4)\n",
    "    \n",
    "    # Normalizing data\n",
    "    x_train = x_train  / 255.0\n",
    "    x_test = x_test / 255.0\n",
    "   \n",
    "    return x_train, x_test, y_train, y_test\n",
    "\n",
    "x_train, x_test, y_train, y_test = load()\n",
    "plt.imshow(x_train[0])\n",
    "print(x_train.shape)\n",
    "print(x_test.shape)"
   ]
  },
  {
   "cell_type": "markdown",
   "metadata": {},
   "source": [
    "### データ管理クラス定義\n",
    "- d_cls.train_gen: train set のImageDataGenerator\n",
    "- d_cls.valid_gen: validation set のImageDataGenerator"
   ]
  },
  {
   "cell_type": "code",
   "execution_count": 4,
   "metadata": {},
   "outputs": [],
   "source": [
    "from keras.preprocessing import image\n",
    "from keras.preprocessing.image import ImageDataGenerator\n",
    "\n",
    "import sys\n",
    "# /home/tmp10014/jupyterhub/notebook/other/lib_DL/mixup-generator\n",
    "#sys.path.append(r'/home/tmp10014/jupyterhub/notebook/other/lib_DL/mixup-generator')\n",
    "from mixup_generator import MixupGenerator\n",
    "from random_eraser import get_random_eraser\n",
    "\n",
    "### Dataset management class\n",
    "class LabeledDataset:\n",
    "    \"\"\"\n",
    "    データ管理用クラス\n",
    "    cpuのメモリに全画像データを持つのでcpuのメモリ少ない場合は使えないかも\n",
    "    \"\"\"\n",
    "    def __init__(self, shape, train_batch_size, valid_batch_size, X_train, y_train, X_valid, y_valid):\n",
    "        self.shape = shape\n",
    "        self.train_batch_size = train_batch_size\n",
    "        self.valid_batch_size = valid_batch_size\n",
    "        self.X_train = X_train\n",
    "        self.y_train = y_train\n",
    "        self.X_valid = X_valid\n",
    "        self.y_valid = y_valid\n",
    "    \n",
    "    def create_generator(self, use_mixup=False, IDG_options={}):\n",
    "        \"\"\"trainとvalidationのImageDataGenerator作成\"\"\"\n",
    "        print('----- train_ImageDataGenerator -----')\n",
    "        print('use_mixup:', use_mixup)\n",
    "        print('IDG_options:', IDG_options)\n",
    "        aug_datagen = ImageDataGenerator(**IDG_options)\n",
    "        if use_mixup:\n",
    "            # ラベルに-1が混じってるからMixup使うと、ラベルも混ぜるのでlossがマイナスになる\n",
    "            # 今回はMixupつかえない\n",
    "            self.train_gen = MixupGenerator(self.X_train, self.y_train, alpha=1.0, batch_size=self.train_batch_size, datagen=aug_datagen)()\n",
    "        else:\n",
    "            self.train_gen = aug_datagen.flow(self.X_train, self.y_train, batch_size=self.train_batch_size)\n",
    "        plain_datagen = ImageDataGenerator()\n",
    "        self.valid_gen = plain_datagen.flow(self.X_valid, self.y_valid, batch_size=self.valid_batch_size, shuffle=False)\n",
    "        return self.train_gen, self.valid_gen\n",
    "    \n",
    "    def train_steps_per_epoch(self):\n",
    "        \"\"\"fit_generatorで指定するtrainのsteps_per_epoch\"\"\"\n",
    "        return len(self.X_train) // self.train_batch_size\n",
    "    \n",
    "    def valid_steps_per_epoch(self):\n",
    "        \"\"\"fit_generatorで指定するvalidationのsteps_per_epoch\"\"\"\n",
    "        return len(self.X_valid) // self.valid_batch_size\n",
    "    \n",
    "d_cls = LabeledDataset(shape, train_batch_size, valid_batch_size, x_train, y_train, x_test, y_test)"
   ]
  },
  {
   "cell_type": "markdown",
   "metadata": {},
   "source": [
    "### 目的関数の定義\n",
    "#### チューニング可能パラメータ\n",
    "- モデル（ニューラルネットワーク）\n",
    "    - Imagenetの学習済みモデル\n",
    "    - fine-tuning\n",
    "    - 全結合0-5層（重みの初期値はhe_normal(He の正規分布)で固定）\n",
    "        - ユニット数 (同じ値か層ごとに減らす)\n",
    "        - dropout_rate (全層同じ値になる)\n",
    "        - Batch_Normalization (全層同じ値になる)\n",
    "        - l2正則化(weight decay) (全層同じ値になる)\n",
    "- オプティマイザ\n",
    "- 学習率\n",
    "    - 学習率変更なし\n",
    "    - cosine_annealing(factor=0.01, epochs=None)\n",
    "    - LearningRateScheduler(lr* 1/4 を3回する)\n",
    "- データ水増し( keras.preprocessing.image.ImageDataGenerator )\n",
    "    - 画像の剪断(shear)\n",
    "    - 拡大縮小(zoom)\n",
    "    - 回転(rotation)\n",
    "    - 上下反転(vertical_flip)\n",
    "    - 左右反転(horizontal_flip)\n",
    "    - 画像の一部矩形領域を隠す（random_erasing)\n",
    "    - 画像混ぜる(mix_up)"
   ]
  },
  {
   "cell_type": "code",
   "execution_count": null,
   "metadata": {},
   "outputs": [],
   "source": [
    "# batch_size\n",
    "train_batch_size=17\n",
    "valid_batch_size=6\n",
    "#train_batch_size=4\n",
    "#valid_batch_size=6\n",
    "\n",
    "# 出力ディレクトリ\n",
    "out_dir = 'output_Tox21_optuna/331x331/SEInceptionV3'\n",
    "os.makedirs(out_dir, exist_ok=True)\n",
    "\n",
    "# 入力層のサイズ\n",
    "shape=[331, 331, 3]\n",
    "\n",
    "# クラス数\n",
    "num_classes=12\n",
    "\n",
    "# エポック数\n",
    "epochs=150\n",
    "\n",
    "# GPUの数\n",
    "gpu_count=len(gpu_num.split(','))\n",
    "print('gpu_count:', gpu_count)\n",
    "\n",
    "# 損失関数\n",
    "loss = multi_loss.build_masked_loss(K.binary_crossentropy) \n",
    "\n",
    "# metrics\n",
    "metrics = ['binary_accuracy', multi_loss.masked_accuracy]\n",
    "\n",
    "# 出力層の活性化関数\n",
    "activation = 'sigmoid'\n",
    "pred_kernel_initializer='zeros'\n",
    "pred_l2_rate=1e-4\n",
    "\n",
    "# pooling方法\n",
    "FCpool='GlobalAveragePooling2D'\n",
    "\n",
    "# callback\n",
    "cb_base = []\n",
    "if gpu_count > 1:\n",
    "    # batch_sizeは並列で処理を行うために元々のbatch_sizeをGPUの数だけ掛ける\n",
    "    train_batch_size = train_batch_size * gpu_count\n",
    "    valid_batch_size = valid_batch_size * gpu_count\n",
    "else:\n",
    "    cb_base.append(keras.callbacks.TerminateOnNaN())\n",
    "\n",
    "    # keras.callbacks.EarlyStopping\n",
    "    early_monitor='val_loss' # val_lossが25エポック更新されなければ学習停止する\n",
    "    early_stopping_pati=50\n",
    "    cb_base.append(keras.callbacks.EarlyStopping(monitor=early_monitor, patience=early_stopping_pati, verbose=1))\n",
    "\n",
    "cb_base.append(my_callback.tsv_logger(os.path.join(out_dir, 'tsv_logger.tsv')))\n",
    "print(cb_base)\n"
   ]
  },
  {
   "cell_type": "markdown",
   "metadata": {},
   "source": [
    "### データ管理クラス定義\n",
    "- d_cls.X_train: train set の画像データ（d_cls.X_train.shape:[11764, 331, 331, 3]）\n",
    "- d_cls.X_valid: validation set の画像データ（d_cls.X_valid.shape:[296, 331, 331, 3]）\n",
    "- d_cls.X_test: test set の画像データ（d_cls.X_test.shape:[647, 331, 331, 3]）\n",
    "- d_cls.train_gen: train set のImageDataGenerator\n",
    "- d_cls.valid_gen: validation set のImageDataGenerator"
   ]
  },
  {
   "cell_type": "code",
   "execution_count": null,
   "metadata": {
    "scrolled": true
   },
   "outputs": [],
   "source": [
    "%%time\n",
    "d_cls = get_train_valid_test.LabeledDataset(shape, train_batch_size, valid_batch_size)\n",
    "d_cls.load_train_as_image(train_files, y_train)\n",
    "d_cls.load_validation_as_image(validation_files, y_valid)\n",
    "d_cls.load_test_as_image(test_files, y_test)"
   ]
  },
  {
   "cell_type": "markdown",
   "metadata": {},
   "source": [
    "### 目的関数の定義\n",
    "#### チューニング可能パラメータ\n",
    "- モデル（ニューラルネットワーク）\n",
    "    - Imagenetの学習済みモデル\n",
    "    - fine-tuning\n",
    "    - 全結合0-5層（重みの初期値はhe_normal(He の正規分布)で固定）\n",
    "        - ユニット数 (同じ値か層ごとに減らす)\n",
    "        - dropout_rate (全層同じ値になる)\n",
    "        - Batch_Normalization (全層同じ値になる)\n",
    "        - l2正則化(weight decay) (全層同じ値になる)\n",
    "- オプティマイザ\n",
    "- 学習率\n",
    "    - 学習率変更なし\n",
    "    - cosine_annealing(factor=0.01, epochs=None)\n",
    "    - LearningRateScheduler(lr* 1/4 を3回する)\n",
    "- データ水増し( keras.preprocessing.image.ImageDataGenerator )\n",
    "    - 画像の剪断(shear)\n",
    "    - 拡大縮小(zoom)\n",
    "    - 回転(rotation)\n",
    "    - 上下反転(vertical_flip)\n",
    "    - 左右反転(horizontal_flip)\n",
    "    - 画像の一部矩形領域を隠す（random_erasing)\n",
    "    - 画像混ぜる(mix_up)"
   ]
  },
  {
   "cell_type": "code",
   "execution_count": null,
   "metadata": {},
   "outputs": [],
   "source": [
    "## best_parameter をval_loss でとる\n",
    "return_val_loss=True\n",
    "\n",
    "### チューニング可能パラメータ引数 ###\n",
    "## model param\n",
    "choice_model = ['SEInceptionV3']# 学習済みモデル\n",
    "trainable = ['all'] # 重みは全層学習させる（重みunfreeze開始レイヤーを番号で指定できる）\n",
    "FCnum = [0,1,4] # FC層の数\n",
    "Dence = [1024, 512, 256, 128] # FC層のユニット数\n",
    "Dropout = [0.0, 0.5] # FC層のDropout\n",
    "addBatchNorm = [None] # FC層のBatchNorm\n",
    "l2 = [0.0, 1e-4] # FC層のl2\n",
    "choice_optim = ['sgd', 'adam', 'nadam'] # optimizer\n",
    "lr = [0.0, 1e-5, 1e-4, 1e-3, 1e-2, 1e-1] # （初期）学習率\n",
    "callback_lr = [None, 'cosine_annealing'] # 学習率変更するcallback\n",
    "callback_save_model=True # モデル保存するcallback つけるか. False なら保存しない\n",
    "\n",
    "if callback_save_model == True:\n",
    "    model_dir = os.path.join(out_dir, 'model_weight_optuna')\n",
    "\n",
    "## ImageDataGenerator param\n",
    "horizontal_flip=[True] # 画像の左右反転\n",
    "vertical_flip=[True] # 画像の上下反転\n",
    "# 画像の回転の下限角、回転の上限角、回転角の刻み幅\n",
    "rotation_range_min=60 \n",
    "rotation_range_max=60\n",
    "rotation_unit=0.0 # 0.0 にしたら rotation_range_max で固定\n",
    "# 画像の縮小の最少-最大倍率、拡大の最少-最大倍率、縮小拡大倍率の刻み幅\n",
    "zoom_range_low_min=0.5\n",
    "zoom_range_low_max=0.5\n",
    "zoom_range_high_min=1.9\n",
    "zoom_range_high_max=1.9\n",
    "zoom_range_unit=0.0 # 0.0 にしたら zoom_range_low_min, zoom_range_high_max で固定\n",
    "# 画像のせん断の最少倍率、せん断の最大倍率、せん断倍率の刻み幅\n",
    "shear_range_min=0.2\n",
    "shear_range_max=0.2\n",
    "shear_range_unit=0.0 # 0.0 にしたら shear_range_max で固定\n",
    "random_eraser_flg= [True] # Random Erasing 含めるか\n",
    "pixel_min=np.min(d_cls.X_train) # Random Erasing で使う画素数の最小値\n",
    "pixel_max=np.max(d_cls.X_train) # Random Erasing で使う画像数の最大値（1/255で割ってるはずだから基本1.0）\n",
    "use_mixup=[False] # mixup 含めるか\n",
    "\n",
    "# パラメータを引数に持たせてoptunaの目的関数を定義\n",
    "objective = optuna_train.Objective(out_dir, d_cls\n",
    "                                   , shape=shape\n",
    "                                   , num_classes=num_classes\n",
    "                                   , epochs=epochs\n",
    "                                   , gpu_count=gpu_count\n",
    "                                   , loss=loss\n",
    "                                   , metrics=metrics\n",
    "                                   , verbose=0\n",
    "                                   , activation=activation\n",
    "                                   , pred_kernel_initializer=pred_kernel_initializer\n",
    "                                   , pred_l2_rate=pred_l2_rate\n",
    "                                   , FCpool=FCpool\n",
    "                                   , return_val_loss=return_val_loss\n",
    "                                   , callbacks=cb_base\n",
    "                                   , callback_save_model=callback_save_model\n",
    "                                   , choice_model=choice_model\n",
    "                                   , trainable=trainable\n",
    "                                   , FCnum=FCnum\n",
    "                                   , Dence=Dence\n",
    "                                   , Dropout=Dropout\n",
    "                                   , addBatchNorm=addBatchNorm\n",
    "                                   , l2=l2\n",
    "                                   , choice_optim=choice_optim\n",
    "                                   , lr=lr\n",
    "                                   , callback_lr=callback_lr\n",
    "                                   , horizontal_flip=horizontal_flip\n",
    "                                   , vertical_flip=vertical_flip\n",
    "                                   , rotation_range_min=rotation_range_min\n",
    "                                   , rotation_range_max=rotation_range_max\n",
    "                                   , rotation_unit=rotation_unit\n",
    "                                   , zoom_range_low_min=zoom_range_low_min\n",
    "                                   , zoom_range_low_max=zoom_range_low_max\n",
    "                                   , zoom_range_high_min=zoom_range_high_min\n",
    "                                   , zoom_range_high_max=zoom_range_high_max\n",
    "                                   , zoom_range_unit=zoom_range_unit\n",
    "                                   , shear_range_min=shear_range_min\n",
    "                                   , shear_range_max=shear_range_max\n",
    "                                   , shear_range_unit=shear_range_unit\n",
    "                                   , random_eraser_flg=random_eraser_flg\n",
    "                                   , pixel_min=pixel_min\n",
    "                                   , pixel_max=pixel_max\n",
    "                                   , use_mixup=use_mixup\n",
    "                                   , branch_Tox21_12task=[False]\n",
    "                                  )"
   ]
  },
  {
   "cell_type": "markdown",
   "metadata": {},
   "source": [
    "### 最適化の実行"
   ]
  },
  {
   "cell_type": "code",
   "execution_count": null,
   "metadata": {
    "scrolled": true
   },
   "outputs": [],
   "source": [
    "%%time\n",
    "# sqlite 使って履歴ファイル作る\n",
    "sqllite_path = out_dir+'/example.db'\n",
    "if os.path.exists(sqllite_path) == True:\n",
    "    os.remove(sqllite_path) # sqllite_pathすでにあれば一旦削除\n",
    "study = optuna.create_study(study_name='example-study', storage='sqlite:///'+sqllite_path)\n",
    "\n",
    "study.optimize(objective, n_trials=50)"
   ]
  },
  {
   "cell_type": "markdown",
   "metadata": {},
   "source": [
    "### 結果の確認"
   ]
  },
  {
   "cell_type": "code",
   "execution_count": null,
   "metadata": {},
   "outputs": [],
   "source": [
    "# 試行結果データフレームで出力\n",
    "study = optuna.Study(study_name='example-study', storage='sqlite:///'+sqllite_path)\n",
    "df = study.trials_dataframe()\n",
    "df.to_csv(os.path.join(out_dir, 'optuna_lgb.tsv'), sep='\\t')\n",
    "df"
   ]
  },
  {
   "cell_type": "code",
   "execution_count": null,
   "metadata": {
    "scrolled": true
   },
   "outputs": [],
   "source": [
    "# study.best_params ファイル出力\n",
    "f = open(os.path.join(out_dir, 'best_params.txt'), 'w') # 書き込みモードで開く\n",
    "for key,value in sorted(study.best_params.items()):\n",
    "    f.write('{0}\\t{1}\\n'.format(key, value))\n",
    "f.close() # ファイル閉じる\n",
    "study.best_params"
   ]
  },
  {
   "cell_type": "code",
   "execution_count": null,
   "metadata": {},
   "outputs": [],
   "source": [
    "study.best_trial "
   ]
  }
 ],
 "metadata": {
  "kernelspec": {
   "display_name": "Python 3",
   "language": "python",
   "name": "python3"
  },
  "language_info": {
   "codemirror_mode": {
    "name": "ipython",
    "version": 3
   },
   "file_extension": ".py",
   "mimetype": "text/x-python",
   "name": "python",
   "nbconvert_exporter": "python",
   "pygments_lexer": "ipython3",
   "version": "3.6.8"
  }
 },
 "nbformat": 4,
 "nbformat_minor": 2
}
