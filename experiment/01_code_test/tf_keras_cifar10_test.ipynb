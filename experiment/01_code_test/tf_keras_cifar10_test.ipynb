{
 "cells": [
  {
   "cell_type": "markdown",
   "metadata": {},
   "source": [
    "tf.keras でcifar10 train"
   ]
  },
  {
   "cell_type": "code",
   "execution_count": 2,
   "metadata": {},
   "outputs": [
    {
     "name": "stdout",
     "output_type": "stream",
     "text": [
      "/c/Users/shingo/jupyter_notebook/tfgpu_py36_work/02_keras_py/experiment/01_code_test\n"
     ]
    },
    {
     "data": {
      "text/plain": [
       "'C:\\\\Users\\\\shingo\\\\Anaconda3\\\\envs\\\\tfgpu20\\\\python.exe'"
      ]
     },
     "execution_count": 2,
     "metadata": {},
     "output_type": "execute_result"
    }
   ],
   "source": [
    "!pwd\n",
    "import sys\n",
    "sys.executable"
   ]
  },
  {
   "cell_type": "code",
   "execution_count": 1,
   "metadata": {},
   "outputs": [
    {
     "name": "stdout",
     "output_type": "stream",
     "text": [
      "Epoch 1/2\n",
      "3125/3125 [==============================] - 174s 56ms/step - loss: 0.9887 - accuracy: 0.6550 - val_loss: 0.6401 - val_accuracy: 0.7808\n",
      "Epoch 2/2\n",
      "3125/3125 [==============================] - 165s 53ms/step - loss: 0.6225 - accuracy: 0.7855 - val_loss: 0.6467 - val_accuracy: 0.7723\n"
     ]
    },
    {
     "data": {
      "text/plain": [
       "<tensorflow.python.keras.callbacks.History at 0x1a38c7de408>"
      ]
     },
     "execution_count": 1,
     "metadata": {},
     "output_type": "execute_result"
    }
   ],
   "source": [
    "from tensorflow import keras \n",
    "from tensorflow.keras.preprocessing.image import ImageDataGenerator\n",
    "\n",
    "(X_train, y_train), (X_test, y_test) = keras.datasets.cifar10.load_data()\n",
    "y_train, y_test = keras.utils.to_categorical(y_train), keras.utils.to_categorical(y_test)\n",
    "train_gen = ImageDataGenerator(rescale=1.0/255, rotation_range=18, zoom_range=0.15).flow(X_train, y_train, batch_size=16)\n",
    "valid_gen = ImageDataGenerator(rescale=1.0/255).flow(X_test, y_test, batch_size=16, shuffle=False)\n",
    "\n",
    "input_tensor = keras.layers.Input(shape=(32, 32, 3))\n",
    "model = keras.applications.vgg16.VGG16(weights='imagenet', include_top=False, input_tensor=input_tensor)\n",
    "x = model.output\n",
    "x = keras.layers.GlobalAveragePooling2D(name='FC_avg')(x)\n",
    "predictions = keras.layers.Dense(10, activation='softmax', name='pred')(x)\n",
    "model = keras.models.Model(inputs=model.input, outputs=predictions)\n",
    "model.compile(loss=keras.backend.categorical_crossentropy, optimizer='sgd', metrics=['accuracy'])\n",
    "\n",
    "model.fit_generator(train_gen\n",
    "                    , steps_per_epoch=X_train.shape[0]//16\n",
    "                    , epochs=2\n",
    "                    , validation_data=valid_gen\n",
    "                    , validation_steps=X_test.shape[0]//16\n",
    "                    , verbose=1)"
   ]
  },
  {
   "cell_type": "code",
   "execution_count": null,
   "metadata": {},
   "outputs": [],
   "source": []
  },
  {
   "cell_type": "code",
   "execution_count": 3,
   "metadata": {},
   "outputs": [],
   "source": [
    "# モジュールimport\n",
    "import os, sys\n",
    "sys.path.append(r'C:\\Users\\shingo\\jupyter_notebook\\tfgpu_py36_work\\02_keras_py')\n",
    "\n",
    "from dataset import plot_log, prepare_data, util\n",
    "\n",
    "from transformer import tf_get_train_valid_test as get_train_valid_test\n",
    "from transformer import my_generator\n",
    "\n",
    "from model import tf_define_model as define_model\n",
    "from model import tf_multi_loss as multi_loss\n",
    "from model import tf_my_callback as my_callback\n",
    "from model import my_metric\n",
    "\n",
    "from predicter import roc_curve, conf_matrix, ensemble_predict\n",
    "from predicter import tf_grad_cam as grad_cam\n",
    "from predicter import tf_base_predict as  base_predict\n",
    "\n",
    "%reload_ext autoreload\n",
    "%autoreload 2"
   ]
  },
  {
   "cell_type": "code",
   "execution_count": 8,
   "metadata": {
    "scrolled": false
   },
   "outputs": [
    {
     "name": "stdout",
     "output_type": "stream",
     "text": [
      "0.0\n"
     ]
    },
    {
     "name": "stderr",
     "output_type": "stream",
     "text": [
      "[W 2020-01-13 22:29:08,773] Setting status of trial#0 as TrialState.FAIL because the returned value from the objective function cannot be casted to float. Returned value is: None\n"
     ]
    },
    {
     "name": "stdout",
     "output_type": "stream",
     "text": [
      "0.0\n"
     ]
    },
    {
     "name": "stderr",
     "output_type": "stream",
     "text": [
      "[W 2020-01-13 22:29:09,977] Setting status of trial#1 as TrialState.FAIL because the returned value from the objective function cannot be casted to float. Returned value is: None\n"
     ]
    },
    {
     "name": "stdout",
     "output_type": "stream",
     "text": [
      "0.5\n"
     ]
    },
    {
     "name": "stderr",
     "output_type": "stream",
     "text": [
      "[W 2020-01-13 22:29:11,215] Setting status of trial#2 as TrialState.FAIL because the returned value from the objective function cannot be casted to float. Returned value is: None\n"
     ]
    },
    {
     "name": "stdout",
     "output_type": "stream",
     "text": [
      "0.5\n"
     ]
    },
    {
     "name": "stderr",
     "output_type": "stream",
     "text": [
      "[W 2020-01-13 22:29:12,468] Setting status of trial#3 as TrialState.FAIL because the returned value from the objective function cannot be casted to float. Returned value is: None\n"
     ]
    },
    {
     "name": "stdout",
     "output_type": "stream",
     "text": [
      "0.0\n"
     ]
    },
    {
     "name": "stderr",
     "output_type": "stream",
     "text": [
      "[W 2020-01-13 22:29:13,756] Setting status of trial#4 as TrialState.FAIL because the returned value from the objective function cannot be casted to float. Returned value is: None\n"
     ]
    }
   ],
   "source": [
    "def get_class_fine_tuning_parameter_suggestions(trial) -> dict:\n",
    "    \"\"\"\n",
    "    Get parameter sample for class fine_tuning (like Keras)\n",
    "    Args:\n",
    "        trial(trial.Trial):\n",
    "    Returns:\n",
    "        dict: parameter sample generated by trial object\n",
    "    \"\"\"\n",
    "    return {\n",
    "        'gpu_count': 1,\n",
    "        'img_rows': 331,\n",
    "        'img_cols': 331,\n",
    "        'channels': 3,\n",
    "        'batch_size': 16,\n",
    "        'classes': ['negative', 'positive'],\n",
    "        'num_classes': 2,\n",
    "        'train_data_dir': './input/CV1_small/train',\n",
    "        'validation_data_dir': './input/CV1_small/validation',\n",
    "        'class_mode': 'categorical', # generatorのラベルをone-hotベクトルに変換する場合。generatorのラベルを0か1のどちらかに変えるだけなら'binary'\n",
    "        'output_dir': r'D:\\work\\02_keras_py\\experiment\\01_code_test\\output_test\\tmp',\n",
    "        'activation': 'softmax',\n",
    "        'metrics': ['accuracy'],\n",
    "        'model_path': None,\n",
    "        'num_epoch': 50,\n",
    "        'n_multitask': 1, \n",
    "        #'multitask_pred_n_node'=2 # マルチタスクの各クラス数\n",
    "        # model param\n",
    "        'choice_model': trial.suggest_categorical('choice_model', ['InceptionV3', 'EfficientNet']),\n",
    "        'fcpool': trial.suggest_categorical('fcpool', ['attention', 'GlobalAveragePooling2D']),\n",
    "        'is_skip_bn': trial.suggest_categorical('is_skip_bn', [True, False]),\n",
    "        'trainable': trial.suggest_categorical('trainable', ['all', 100, 200, 300, 400, 500, 600]),\n",
    "        'efficientnet_num': trial.suggest_categorical('efficientnet_num', [3,7]),\n",
    "        # full layer param\n",
    "        'fcs': trial.suggest_categorical('fcs', [[], [100], [256], [512, 256], [1024, 512, 256]]),\n",
    "        'drop': trial.suggest_categorical('drop', [0.3, 0.5, 0.7]),\n",
    "        'is_add_batchnorm': trial.suggest_categorical('is_add_batchnorm', [True, False]),\n",
    "        'l2_rate': trial.suggest_categorical('l2_rate', [1e-5, 5e-5, 1e-4, 5e-4, 1e-3]),\n",
    "        # optimizer param\n",
    "        'choice_optim': trial.suggest_categorical('choice_optim', ['sgd', 'adadelta', 'adam', 'adamax', 'nadam', 'adabound']),\n",
    "        'lr': trial.suggest_categorical('lr', [1e-3, 1e-2, 1e-1]),\n",
    "        'decay': trial.suggest_categorical('decay', [0.0, 1e-6, 1e-5, 1e-4]) # 各更新上の学習率減衰\n",
    "    }\n",
    "\n",
    "def get_ImageDataGenerator_parameter_suggestions(trial) -> dict:\n",
    "    \"\"\"\n",
    "    Get parameter sample for ImageDataGenerator (like Keras)\n",
    "    Args:\n",
    "        trial(trial.Trial):\n",
    "    Returns:\n",
    "        dict: parameter sample generated by trial object\n",
    "    \"\"\"\n",
    "    return {\n",
    "        'rescale': 1.0/255.0,\n",
    "        'width_shift_range': trial.suggest_categorical('height_shift_range', [0.0, 0.25]),\n",
    "        'height_shift_range': trial.suggest_categorical('height_shift_range', [0.0, 0.25]),\n",
    "        'horizontal_flip': trial.suggest_categorical('horizontal_flip', [True, False]),\n",
    "        'vertical_flip': trial.suggest_categorical('vertical_flip', [True, False]),\n",
    "        'shear_range': trial.suggest_categorical('shear_range', [0.0, 20, 50]),\n",
    "        'zoom_range': trial.suggest_categorical('zoom_range', [0.0, 0.2, 0.5]),\n",
    "        'rotation_range': trial.suggest_categorical('rotation_range', [0.0, 45, 60, 90]),\n",
    "        'channel_shift_range': trial.suggest_categorical('channel_shift_range', [0.0, 100, 200]),\n",
    "        'brightness_range': trial.suggest_categorical('brightness_range', [[1.0, 1.0], [0.3, 1.0]]),\n",
    "        # MyImageDataGenerator param\n",
    "        'random_erasing_prob': trial.suggest_categorical('random_erasing_prob', [0.0, 0.5]),\n",
    "        'random_erasing_maxpixel': 255.,\n",
    "        'mix_up_alpha': trial.suggest_categorical('mix_up_alpha', [0.0, 0.2]),\n",
    "        'ricap_beta': trial.suggest_categorical('ricap_beta', [0.0, 0.3]),\n",
    "        'is_base_aug': trial.suggest_categorical('is_base_aug', [False]),\n",
    "        'is_grayscale': trial.suggest_categorical('is_grayscale', [False]),\n",
    "    }\n",
    "\n",
    "def get_Augmentor_parameter_suggestions(trial) -> dict:\n",
    "    \"\"\"\n",
    "    Get parameter sample for Augmentor\n",
    "    Args:\n",
    "        trial(trial.Trial):\n",
    "    Returns:\n",
    "        dict: parameter sample generated by trial object\n",
    "    \"\"\"\n",
    "    return {\n",
    "        'rescale': 1.0/255.0,\n",
    "        'rotate90': trial.suggest_categorical('rotate90', [0.0, 0.5]),\n",
    "        'rotate180': trial.suggest_categorical('rotate180', [0.0, 0.5]),\n",
    "        'rotate270': trial.suggest_categorical('rotate270', [0.0, 0.5]),\n",
    "        'rotate_prob': trial.suggest_categorical('rotate_prob', [0.0, 0.5]),\n",
    "        'rotate_max_left': trial.suggest_categorical('rotate_max_left', [20, 60, 90]),\n",
    "        'rotate_max_right': trial.suggest_categorical('rotate_max_right', [20, 60, 90]),\n",
    "        'crop_prob': trial.suggest_categorical('crop_prob', [0.0, 0.5]),\n",
    "        'crop_area': trial.suggest_categorical('crop_area', [0.8, 0.5]),\n",
    "        'crop_by_size_prob': trial.suggest_categorical('crop_by_size_prob', [0.0, 0.5]),\n",
    "        'crop_by_width': trial.suggest_categorical('crop_by_width', [224]),\n",
    "        'crop_by_height': trial.suggest_categorical('crop_by_height', [224]),\n",
    "        'crop_by_centre': trial.suggest_categorical('crop_by_centre', [True, False]),\n",
    "        'shear_prob': trial.suggest_categorical('shear_prob', [0.0, 0.5]),\n",
    "        'shear_magni': trial.suggest_categorical('shear_magni', [20, 50]),\n",
    "        'skew_prob': trial.suggest_categorical('skew_prob', [0.0, 0.5]),\n",
    "        'skew_magni': trial.suggest_categorical('skew_magni', [20, 50]),\n",
    "        'zoom_prob': trial.suggest_categorical('zoom_prob', [0.0, 0.5]),\n",
    "        'zoom_min': trial.suggest_categorical('zoom_min', [0.2, 0.5, 0.9]),\n",
    "        'zoom_max': trial.suggest_categorical('zoom_max', [1.2, 1.5, 1.9]),\n",
    "        'flip_left_right': trial.suggest_categorical('flip_left_right', [0.0, 0.5]),\n",
    "        'flip_top_bottom': trial.suggest_categorical('flip_top_bottom', [0.0, 0.5]),\n",
    "        'random_erasing_prob': trial.suggest_categorical('random_erasing_prob', [0.0, 0.5]),\n",
    "        'random_erasing_area': trial.suggest_categorical('random_erasing_area', [0.3]),\n",
    "        'random_dist_prob': trial.suggest_categorical('random_dist_prob', [0.0, 0.5]),\n",
    "        'random_dist_grid_width': trial.suggest_categorical('random_dist_grid_width', [4]),\n",
    "        'random_dist_grid_height': trial.suggest_categorical('random_dist_grid_height', [4]),\n",
    "        'random_dist_grid_height': trial.suggest_categorical('random_dist_grid_height', [4]),\n",
    "        'random_dist_magnitude': trial.suggest_categorical('random_dist_magnitude', [8]),\n",
    "        'black_and_white': trial.suggest_categorical('black_and_white', [0.0, 0.5]),\n",
    "        'greyscale': trial.suggest_categorical('greyscale', [0.0, 0.5]),\n",
    "        'invert': trial.suggest_categorical('invert', [0.0, 0.5])\n",
    "    }\n",
    "\n",
    "import optuna\n",
    "\n",
    "def objective(trial):\n",
    "    trial_class = get_class_fine_tuning_parameter_suggestions(trial)\n",
    "    trial_imagegen = get_ImageDataGenerator_parameter_suggestions(trial)\n",
    "    trial_augmentor = get_Augmentor_parameter_suggestions(trial)\n",
    "    trial_merge = {**trial_class, **trial_imagegen, **trial_augmentor}\n",
    "    #display(trial_merge)\n",
    "    print(trial_merge['invert'])\n",
    "    #define_model.get_fine_tuning_model(**trial)\n",
    "    \n",
    "study = optuna.create_study(direction='minimize') # 最小化\n",
    "study.optimize(objective, n_trials=5)"
   ]
  },
  {
   "cell_type": "code",
   "execution_count": null,
   "metadata": {},
   "outputs": [],
   "source": []
  },
  {
   "cell_type": "code",
   "execution_count": null,
   "metadata": {},
   "outputs": [],
   "source": []
  },
  {
   "cell_type": "code",
   "execution_count": null,
   "metadata": {},
   "outputs": [],
   "source": []
  },
  {
   "cell_type": "code",
   "execution_count": null,
   "metadata": {},
   "outputs": [],
   "source": []
  },
  {
   "cell_type": "code",
   "execution_count": null,
   "metadata": {},
   "outputs": [],
   "source": []
  },
  {
   "cell_type": "code",
   "execution_count": null,
   "metadata": {},
   "outputs": [],
   "source": []
  },
  {
   "cell_type": "code",
   "execution_count": null,
   "metadata": {},
   "outputs": [],
   "source": []
  }
 ],
 "metadata": {
  "kernelspec": {
   "display_name": "Python 3",
   "language": "python",
   "name": "python3"
  },
  "language_info": {
   "codemirror_mode": {
    "name": "ipython",
    "version": 3
   },
   "file_extension": ".py",
   "mimetype": "text/x-python",
   "name": "python",
   "nbconvert_exporter": "python",
   "pygments_lexer": "ipython3",
   "version": "3.6.9"
  }
 },
 "nbformat": 4,
 "nbformat_minor": 2
}
