{
 "cells": [
  {
   "cell_type": "markdown",
   "metadata": {},
   "source": [
    "tf.keras でcifar10 train"
   ]
  },
  {
   "cell_type": "code",
   "execution_count": 2,
   "metadata": {},
   "outputs": [
    {
     "name": "stdout",
     "output_type": "stream",
     "text": [
      "/c/Users/shingo/jupyter_notebook/tfgpu_py36_work/02_keras_py/experiment/01_code_test\n"
     ]
    },
    {
     "data": {
      "text/plain": [
       "'C:\\\\Users\\\\shingo\\\\Anaconda3\\\\envs\\\\tfgpu20\\\\python.exe'"
      ]
     },
     "execution_count": 2,
     "metadata": {},
     "output_type": "execute_result"
    }
   ],
   "source": [
    "!pwd\n",
    "import sys\n",
    "sys.executable"
   ]
  },
  {
   "cell_type": "code",
   "execution_count": 1,
   "metadata": {},
   "outputs": [
    {
     "name": "stdout",
     "output_type": "stream",
     "text": [
      "Epoch 1/2\n",
      "3125/3125 [==============================] - 174s 56ms/step - loss: 0.9887 - accuracy: 0.6550 - val_loss: 0.6401 - val_accuracy: 0.7808\n",
      "Epoch 2/2\n",
      "3125/3125 [==============================] - 165s 53ms/step - loss: 0.6225 - accuracy: 0.7855 - val_loss: 0.6467 - val_accuracy: 0.7723\n"
     ]
    },
    {
     "data": {
      "text/plain": [
       "<tensorflow.python.keras.callbacks.History at 0x1a38c7de408>"
      ]
     },
     "execution_count": 1,
     "metadata": {},
     "output_type": "execute_result"
    }
   ],
   "source": [
    "from tensorflow import keras \n",
    "from tensorflow.keras.preprocessing.image import ImageDataGenerator\n",
    "\n",
    "(X_train, y_train), (X_test, y_test) = keras.datasets.cifar10.load_data()\n",
    "y_train, y_test = keras.utils.to_categorical(y_train), keras.utils.to_categorical(y_test)\n",
    "train_gen = ImageDataGenerator(rescale=1.0/255, rotation_range=18, zoom_range=0.15).flow(X_train, y_train, batch_size=16)\n",
    "valid_gen = ImageDataGenerator(rescale=1.0/255).flow(X_test, y_test, batch_size=16, shuffle=False)\n",
    "\n",
    "input_tensor = keras.layers.Input(shape=(32, 32, 3))\n",
    "model = keras.applications.vgg16.VGG16(weights='imagenet', include_top=False, input_tensor=input_tensor)\n",
    "x = model.output\n",
    "x = keras.layers.GlobalAveragePooling2D(name='FC_avg')(x)\n",
    "predictions = keras.layers.Dense(10, activation='softmax', name='pred')(x)\n",
    "model = keras.models.Model(inputs=model.input, outputs=predictions)\n",
    "model.compile(loss=keras.backend.categorical_crossentropy, optimizer='sgd', metrics=['accuracy'])\n",
    "\n",
    "model.fit_generator(train_gen\n",
    "                    , steps_per_epoch=X_train.shape[0]//16\n",
    "                    , epochs=2\n",
    "                    , validation_data=valid_gen\n",
    "                    , validation_steps=X_test.shape[0]//16\n",
    "                    , verbose=1)"
   ]
  },
  {
   "cell_type": "code",
   "execution_count": null,
   "metadata": {},
   "outputs": [],
   "source": []
  }
 ],
 "metadata": {
  "kernelspec": {
   "display_name": "Python 3",
   "language": "python",
   "name": "python3"
  },
  "language_info": {
   "codemirror_mode": {
    "name": "ipython",
    "version": 3
   },
   "file_extension": ".py",
   "mimetype": "text/x-python",
   "name": "python",
   "nbconvert_exporter": "python",
   "pygments_lexer": "ipython3",
   "version": "3.7.5"
  }
 },
 "nbformat": 4,
 "nbformat_minor": 2
}
