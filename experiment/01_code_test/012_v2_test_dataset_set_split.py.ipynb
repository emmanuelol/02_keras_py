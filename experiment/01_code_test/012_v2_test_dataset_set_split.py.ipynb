{
 "cells": [
  {
   "cell_type": "markdown",
   "metadata": {},
   "source": [
    "# コードのテスト\n",
    "## dataset/set_split.py の関数について\n",
    "- 画像dataの一部を各setに分ける"
   ]
  },
  {
   "cell_type": "markdown",
   "metadata": {},
   "source": [
    "## モジュールimport"
   ]
  },
  {
   "cell_type": "code",
   "execution_count": 3,
   "metadata": {
    "scrolled": true
   },
   "outputs": [
    {
     "name": "stdout",
     "output_type": "stream",
     "text": [
      "set_split.py: loaded as module file\n"
     ]
    }
   ],
   "source": [
    "# モジュールimport\n",
    "import os, sys\n",
    "sys.path.append(r'C:\\Users\\shingo\\jupyter_notebook\\tfgpu_py36_work\\02_keras_py')\n",
    "from dataset import set_split"
   ]
  },
  {
   "cell_type": "code",
   "execution_count": 4,
   "metadata": {},
   "outputs": [
    {
     "name": "stdout",
     "output_type": "stream",
     "text": [
      "[5, 8, 7, 6, 9, 3, 2, 4, 1]\n"
     ]
    }
   ],
   "source": [
    "import random\n",
    "id_imgs=[1,2,3,4,5,6,7,8,9]\n",
    "random.seed(61112)\n",
    "random.shuffle(id_imgs)\n",
    "print(id_imgs)"
   ]
  },
  {
   "cell_type": "markdown",
   "metadata": {},
   "source": [
    "## テスト用に画像を少数でtrain/validation/test set に分ける\n",
    "- train_count=400*11\n",
    "- valid_count=40*11\n",
    "- test_count=10*11"
   ]
  },
  {
   "cell_type": "code",
   "execution_count": 4,
   "metadata": {
    "scrolled": true
   },
   "outputs": [
    {
     "name": "stdout",
     "output_type": "stream",
     "text": [
      "source_dir : D:\\work\\keras_iPhone_pictures\\InceptionResNetV2\n",
      "img_dir : D:\\work\\keras_iPhone_pictures\\InceptionResNetV2_small_set\\train_400\n",
      "---------------------------------------------------------------\n",
      "class_name : beagle\n",
      "imgs: 1127\n"
     ]
    },
    {
     "name": "stderr",
     "output_type": "stream",
     "text": [
      "100%|██████████████████████████████████████████████████████████████████████████████████| 10/10 [00:00<00:00, 31.72it/s]\n",
      "100%|██████████████████████████████████████████████████████████████████████████████████| 40/40 [00:01<00:00, 37.92it/s]\n",
      "100%|████████████████████████████████████████████████████████████████████████████████| 400/400 [00:08<00:00, 47.45it/s]\n"
     ]
    },
    {
     "name": "stdout",
     "output_type": "stream",
     "text": [
      "class_name : bikini\n",
      "imgs: 565\n"
     ]
    },
    {
     "name": "stderr",
     "output_type": "stream",
     "text": [
      "100%|██████████████████████████████████████████████████████████████████████████████████| 10/10 [00:00<00:00, 67.29it/s]\n",
      "100%|█████████████████████████████████████████████████████████████████████████████████| 40/40 [00:00<00:00, 102.88it/s]\n",
      "100%|████████████████████████████████████████████████████████████████████████████████| 400/400 [00:26<00:00, 37.45it/s]\n"
     ]
    },
    {
     "name": "stdout",
     "output_type": "stream",
     "text": [
      "class_name : boke\n",
      "imgs: 39\n"
     ]
    },
    {
     "name": "stderr",
     "output_type": "stream",
     "text": [
      "100%|███████████████████████████████████████████████████████████████████████████████████| 1/1 [00:00<00:00, 100.04it/s]\n",
      "100%|████████████████████████████████████████████████████████████████████████████████████| 5/5 [00:00<00:00, 52.35it/s]\n",
      "100%|██████████████████████████████████████████████████████████████████████████████████| 33/33 [00:00<00:00, 91.42it/s]\n"
     ]
    },
    {
     "name": "stdout",
     "output_type": "stream",
     "text": [
      "class_name : cat\n",
      "imgs: 33\n"
     ]
    },
    {
     "name": "stderr",
     "output_type": "stream",
     "text": [
      "100%|███████████████████████████████████████████████████████████████████████████████████| 1/1 [00:00<00:00, 166.55it/s]\n",
      "100%|████████████████████████████████████████████████████████████████████████████████████| 4/4 [00:00<00:00, 95.35it/s]\n",
      "100%|██████████████████████████████████████████████████████████████████████████████████| 28/28 [00:00<00:00, 35.73it/s]\n"
     ]
    },
    {
     "name": "stdout",
     "output_type": "stream",
     "text": [
      "class_name : comic_book\n",
      "imgs: 847\n"
     ]
    },
    {
     "name": "stderr",
     "output_type": "stream",
     "text": [
      "100%|██████████████████████████████████████████████████████████████████████████████████| 10/10 [00:00<00:00, 51.78it/s]\n",
      "100%|██████████████████████████████████████████████████████████████████████████████████| 40/40 [00:01<00:00, 31.12it/s]\n",
      "100%|████████████████████████████████████████████████████████████████████████████████| 400/400 [00:08<00:00, 46.49it/s]\n"
     ]
    },
    {
     "name": "stdout",
     "output_type": "stream",
     "text": [
      "class_name : fashion\n",
      "imgs: 3626\n"
     ]
    },
    {
     "name": "stderr",
     "output_type": "stream",
     "text": [
      "100%|██████████████████████████████████████████████████████████████████████████████████| 10/10 [00:00<00:00, 10.67it/s]\n",
      "100%|██████████████████████████████████████████████████████████████████████████████████| 40/40 [00:02<00:00, 17.30it/s]\n",
      "100%|████████████████████████████████████████████████████████████████████████████████| 400/400 [00:11<00:00, 35.17it/s]\n"
     ]
    },
    {
     "name": "stdout",
     "output_type": "stream",
     "text": [
      "class_name : marin\n",
      "imgs: 606\n"
     ]
    },
    {
     "name": "stderr",
     "output_type": "stream",
     "text": [
      "100%|██████████████████████████████████████████████████████████████████████████████████| 10/10 [00:00<00:00, 12.12it/s]\n",
      "100%|██████████████████████████████████████████████████████████████████████████████████| 40/40 [00:01<00:00, 32.28it/s]\n",
      "100%|████████████████████████████████████████████████████████████████████████████████| 400/400 [00:34<00:00, 11.63it/s]\n"
     ]
    },
    {
     "name": "stdout",
     "output_type": "stream",
     "text": [
      "class_name : other\n",
      "imgs: 4109\n"
     ]
    },
    {
     "name": "stderr",
     "output_type": "stream",
     "text": [
      "100%|██████████████████████████████████████████████████████████████████████████████████| 10/10 [00:00<00:00, 11.53it/s]\n",
      "100%|██████████████████████████████████████████████████████████████████████████████████| 40/40 [00:02<00:00, 15.86it/s]\n",
      "100%|████████████████████████████████████████████████████████████████████████████████| 400/400 [00:27<00:00, 14.34it/s]\n"
     ]
    },
    {
     "name": "stdout",
     "output_type": "stream",
     "text": [
      "class_name : shingo\n",
      "imgs: 1091\n"
     ]
    },
    {
     "name": "stderr",
     "output_type": "stream",
     "text": [
      "100%|██████████████████████████████████████████████████████████████████████████████████| 10/10 [00:01<00:00,  7.97it/s]\n",
      "100%|██████████████████████████████████████████████████████████████████████████████████| 40/40 [00:03<00:00, 12.76it/s]\n",
      "100%|████████████████████████████████████████████████████████████████████████████████| 400/400 [00:19<00:00, 24.31it/s]\n"
     ]
    },
    {
     "name": "stdout",
     "output_type": "stream",
     "text": [
      "class_name : suit\n",
      "imgs: 60\n"
     ]
    },
    {
     "name": "stderr",
     "output_type": "stream",
     "text": [
      "100%|████████████████████████████████████████████████████████████████████████████████████| 3/3 [00:00<00:00, 64.03it/s]\n",
      "100%|████████████████████████████████████████████████████████████████████████████████████| 9/9 [00:00<00:00, 11.30it/s]\n",
      "100%|██████████████████████████████████████████████████████████████████████████████████| 48/48 [00:00<00:00, 58.93it/s]\n"
     ]
    },
    {
     "name": "stdout",
     "output_type": "stream",
     "text": [
      "class_name : tumblr\n",
      "imgs: 688\n"
     ]
    },
    {
     "name": "stderr",
     "output_type": "stream",
     "text": [
      "100%|██████████████████████████████████████████████████████████████████████████████████| 10/10 [00:01<00:00,  8.57it/s]\n",
      "100%|██████████████████████████████████████████████████████████████████████████████████| 40/40 [00:01<00:00, 38.58it/s]\n",
      "100%|████████████████████████████████████████████████████████████████████████████████| 400/400 [00:08<00:00, 48.84it/s]\n"
     ]
    }
   ],
   "source": [
    "# クラス名のリスト\n",
    "class_name = ['beagle', 'bikini', 'boke', 'cat', 'comic_book', 'fashion', 'marin', 'other', 'shingo', 'suit', 'tumblr']\n",
    "\n",
    "# 全画像格納しているディレクトリ\n",
    "source_dir = r'D:\\work\\keras_iPhone_pictures\\InceptionResNetV2'\n",
    "\n",
    "# train/validation/test set に分ける画像ディレクトリ\n",
    "#img_dir = r'D:\\work\\keras_iPhone_pictures\\InceptionResNetV2_small_set\\train_10'\n",
    "#img_dir = r'D:\\work\\keras_iPhone_pictures\\InceptionResNetV2_small_set\\train_100'\n",
    "img_dir = r'D:\\work\\keras_iPhone_pictures\\InceptionResNetV2_small_set\\train_400'\n",
    "\n",
    "train_1class_count = 400#100 #10 # train 1クラスの画像枚数\n",
    "valid_1class_count = 40#10 #5 # validaiton 1クラスの画像枚数\n",
    "test_1class_count = 10#10 #5  # test 1クラスの画像枚数\n",
    "\n",
    "# クラスディレクトリごとに別れた指定ディレクトリの画像を tarin/val set に分けてコピーする\n",
    "set_split.split_class_train_valid_test_set(class_name, source_dir, img_dir\n",
    "                                 , train_count_org=train_1class_count\n",
    "                                 , valid_count_org=valid_1class_count\n",
    "                                 , test_count_org=test_1class_count\n",
    "                                )"
   ]
  }
 ],
 "metadata": {
  "hide_input": false,
  "kernelspec": {
   "display_name": "Python 3",
   "language": "python",
   "name": "python3"
  },
  "language_info": {
   "codemirror_mode": {
    "name": "ipython",
    "version": 3
   },
   "file_extension": ".py",
   "mimetype": "text/x-python",
   "name": "python",
   "nbconvert_exporter": "python",
   "pygments_lexer": "ipython3",
   "version": "3.6.8"
  },
  "toc": {
   "base_numbering": 1,
   "nav_menu": {},
   "number_sections": true,
   "sideBar": true,
   "skip_h1_title": false,
   "title_cell": "Table of Contents",
   "title_sidebar": "Contents",
   "toc_cell": false,
   "toc_position": {},
   "toc_section_display": true,
   "toc_window_display": false
  }
 },
 "nbformat": 4,
 "nbformat_minor": 2
}
