{
 "cells": [
  {
   "cell_type": "code",
   "execution_count": 1,
   "metadata": {},
   "outputs": [],
   "source": [
    "from imblearn.over_sampling import RandomOverSampler"
   ]
  },
  {
   "cell_type": "code",
   "execution_count": 4,
   "metadata": {
    "scrolled": true
   },
   "outputs": [
    {
     "data": {
      "text/plain": [
       "['Callback',\n",
       " 'CheckpointCallback',\n",
       " 'History',\n",
       " 'Image',\n",
       " 'ImageDataGenerator',\n",
       " 'ImageEnhance',\n",
       " 'ImageOps',\n",
       " 'LearningRateScheduler',\n",
       " 'Model',\n",
       " 'SGD',\n",
       " '__builtins__',\n",
       " '__cached__',\n",
       " '__doc__',\n",
       " '__file__',\n",
       " '__loader__',\n",
       " '__name__',\n",
       " '__package__',\n",
       " '__spec__',\n",
       " '_res_add',\n",
       " 'auto_contrast',\n",
       " 'baseline_generator',\n",
       " 'build_wrn_model',\n",
       " 'cifar10',\n",
       " 'confusion_matrix',\n",
       " 'cosine_decay',\n",
       " 'create_block',\n",
       " 'create_network',\n",
       " 'error_analysis',\n",
       " 'layers',\n",
       " 'lr_scheduler',\n",
       " 'mixup',\n",
       " 'mode1_generator',\n",
       " 'mode2_generator',\n",
       " 'mode3_generator',\n",
       " 'mode4_generator',\n",
       " 'mode5_generator',\n",
       " 'mode6_generator',\n",
       " 'mode7_generator',\n",
       " 'np',\n",
       " 'os',\n",
       " 'pickle',\n",
       " 'plt',\n",
       " 'random_erasing',\n",
       " 'random_zoom',\n",
       " 'residual_block',\n",
       " 'sharpen',\n",
       " 'shutil',\n",
       " 'solarize',\n",
       " 'tf',\n",
       " 'to_categorical',\n",
       " 'train',\n",
       " 'validation_generator',\n",
       " 'zero_pad']"
      ]
     },
     "execution_count": 4,
     "metadata": {},
     "output_type": "execute_result"
    }
   ],
   "source": [
    "# モジュールimport\n",
    "import os, sys\n",
    "current_dir = os.path.dirname(os.path.abspath(\"__file__\"))\n",
    "sys.path.append( str(current_dir) + '/../../model' )\n",
    "import cifar10_wrn_acc_97\n",
    "dir(cifar10_wrn_acc_97)"
   ]
  },
  {
   "cell_type": "code",
   "execution_count": 1,
   "metadata": {
    "scrolled": true
   },
   "outputs": [
    {
     "data": {
      "text/plain": [
       "['__class__',\n",
       " '__delattr__',\n",
       " '__dict__',\n",
       " '__dir__',\n",
       " '__doc__',\n",
       " '__eq__',\n",
       " '__format__',\n",
       " '__ge__',\n",
       " '__getattribute__',\n",
       " '__gt__',\n",
       " '__hash__',\n",
       " '__init__',\n",
       " '__init_subclass__',\n",
       " '__le__',\n",
       " '__lt__',\n",
       " '__module__',\n",
       " '__ne__',\n",
       " '__new__',\n",
       " '__reduce__',\n",
       " '__reduce_ex__',\n",
       " '__repr__',\n",
       " '__setattr__',\n",
       " '__sizeof__',\n",
       " '__str__',\n",
       " '__subclasshook__',\n",
       " '__weakref__',\n",
       " 'apply_transform',\n",
       " 'fit',\n",
       " 'flow',\n",
       " 'flow_from_dataframe',\n",
       " 'flow_from_directory',\n",
       " 'get_random_transform',\n",
       " 'random_transform',\n",
       " 'standardize']"
      ]
     },
     "execution_count": 1,
     "metadata": {},
     "output_type": "execute_result"
    }
   ],
   "source": [
    "# モジュールimport\n",
    "import os, sys\n",
    "current_dir = os.path.dirname(os.path.abspath(\"__file__\"))\n",
    "sys.path.append( str(current_dir) + '/../../Git/keras-preprocessing' )\n",
    "#print(dir(sys.path[-1]))\n",
    "from keras_preprocessing.image import ImageDataGenerator\n",
    "dir(ImageDataGenerator)"
   ]
  },
  {
   "cell_type": "code",
   "execution_count": 1,
   "metadata": {},
   "outputs": [
    {
     "name": "stderr",
     "output_type": "stream",
     "text": [
      "Using TensorFlow backend.\n"
     ]
    }
   ],
   "source": [
    "import os, sys\n",
    "current_dir = os.path.dirname(os.path.abspath(\"__file__\"))\n",
    "sys.path.append( str(current_dir) + '/../../Git/Wide-Residual-Networks' )\n",
    "import wide_residual_network as wrn"
   ]
  },
  {
   "cell_type": "code",
   "execution_count": 2,
   "metadata": {
    "scrolled": true
   },
   "outputs": [
    {
     "data": {
      "text/plain": [
       "['__class__',\n",
       " '__delattr__',\n",
       " '__dict__',\n",
       " '__dir__',\n",
       " '__doc__',\n",
       " '__eq__',\n",
       " '__format__',\n",
       " '__ge__',\n",
       " '__getattribute__',\n",
       " '__gt__',\n",
       " '__hash__',\n",
       " '__init__',\n",
       " '__init_subclass__',\n",
       " '__le__',\n",
       " '__lt__',\n",
       " '__module__',\n",
       " '__ne__',\n",
       " '__new__',\n",
       " '__reduce__',\n",
       " '__reduce_ex__',\n",
       " '__repr__',\n",
       " '__setattr__',\n",
       " '__sizeof__',\n",
       " '__str__',\n",
       " '__subclasshook__',\n",
       " '__weakref__',\n",
       " 'apply_transform',\n",
       " 'fit',\n",
       " 'flow',\n",
       " 'flow_from_dataframe',\n",
       " 'flow_from_directory',\n",
       " 'get_random_transform',\n",
       " 'random_transform',\n",
       " 'standardize']"
      ]
     },
     "execution_count": 2,
     "metadata": {},
     "output_type": "execute_result"
    }
   ],
   "source": [
    "import os, sys\n",
    "sys.path.append( r'C:\\Users\\shingo\\jupyter_notebook\\tfgpu_py36_work\\02_keras_py\\Git\\keras-preprocessing' )\n",
    "from keras_preprocessing.image import ImageDataGenerator\n",
    "dir(ImageDataGenerator)"
   ]
  }
 ],
 "metadata": {
  "hide_input": false,
  "kernelspec": {
   "display_name": "Python 3",
   "language": "python",
   "name": "python3"
  },
  "language_info": {
   "codemirror_mode": {
    "name": "ipython",
    "version": 3
   },
   "file_extension": ".py",
   "mimetype": "text/x-python",
   "name": "python",
   "nbconvert_exporter": "python",
   "pygments_lexer": "ipython3",
   "version": "3.6.8"
  },
  "toc": {
   "base_numbering": 1,
   "nav_menu": {},
   "number_sections": true,
   "sideBar": true,
   "skip_h1_title": false,
   "title_cell": "Table of Contents",
   "title_sidebar": "Contents",
   "toc_cell": false,
   "toc_position": {},
   "toc_section_display": true,
   "toc_window_display": false
  }
 },
 "nbformat": 4,
 "nbformat_minor": 2
}
