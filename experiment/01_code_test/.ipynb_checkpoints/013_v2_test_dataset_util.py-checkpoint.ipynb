{
 "cells": [
  {
   "cell_type": "markdown",
   "metadata": {},
   "source": [
    "# コードのテスト\n",
    "## dataset/util.py の関数について\n",
    "- ファイルパス探すとかのutil関数群"
   ]
  },
  {
   "cell_type": "markdown",
   "metadata": {},
   "source": [
    "## モジュールimport"
   ]
  },
  {
   "cell_type": "code",
   "execution_count": 1,
   "metadata": {
    "scrolled": true
   },
   "outputs": [
    {
     "name": "stdout",
     "output_type": "stream",
     "text": [
      "util.py: loaded as module file\n"
     ]
    }
   ],
   "source": [
    "# モジュールimport\n",
    "import os, sys\n",
    "sys.path.append(r'C:\\Users\\shingo\\jupyter_notebook\\tfgpu_py36_work\\02_keras_py')\n",
    "from dataset import util"
   ]
  },
  {
   "cell_type": "markdown",
   "metadata": {},
   "source": [
    "### ファイルパス再帰的に探索し、pngかjpgのパスだけリストで返す"
   ]
  },
  {
   "cell_type": "code",
   "execution_count": 2,
   "metadata": {},
   "outputs": [
    {
     "name": "stdout",
     "output_type": "stream",
     "text": [
      "jpg_png_count: 451\n",
      "451\n",
      "jpg_png_count: 537\n",
      "537\n"
     ]
    }
   ],
   "source": [
    "dir = r'D:\\work\\keras_iPhone_pictures\\testSet_2018-06_predict'\n",
    "f1 = util.get_jpg_png_path_in_dir(dir)\n",
    "print(len(f1))\n",
    "\n",
    "dir = r'D:\\iPhone_pictures\\2018-08'\n",
    "f2 = util.get_jpg_png_path_in_dir(dir)\n",
    "print(len(f2))"
   ]
  },
  {
   "cell_type": "markdown",
   "metadata": {},
   "source": [
    "### pathlibを使って指定ディレクトリを再帰的になめ、jpg,pngのファイルパスをリストで返す"
   ]
  },
  {
   "cell_type": "code",
   "execution_count": 4,
   "metadata": {},
   "outputs": [
    {
     "name": "stdout",
     "output_type": "stream",
     "text": [
      "jpg_png_count: 451\n",
      "451\n",
      "jpg_png_count: 537\n",
      "537\n"
     ]
    }
   ],
   "source": [
    "dir = r'D:\\work\\keras_iPhone_pictures\\testSet_2018-06_predict'\n",
    "f1 = util.get_jpg_png_path_in_dir(dir)\n",
    "print(len(f1))\n",
    "\n",
    "dir = r'D:\\iPhone_pictures\\2018-08'\n",
    "f2 = util.get_jpg_png_path_in_dir(dir)\n",
    "print(len(f2))"
   ]
  }
 ],
 "metadata": {
  "kernelspec": {
   "display_name": "Python 3",
   "language": "python",
   "name": "python3"
  },
  "language_info": {
   "codemirror_mode": {
    "name": "ipython",
    "version": 3
   },
   "file_extension": ".py",
   "mimetype": "text/x-python",
   "name": "python",
   "nbconvert_exporter": "python",
   "pygments_lexer": "ipython3",
   "version": "3.6.8"
  }
 },
 "nbformat": 4,
 "nbformat_minor": 2
}
