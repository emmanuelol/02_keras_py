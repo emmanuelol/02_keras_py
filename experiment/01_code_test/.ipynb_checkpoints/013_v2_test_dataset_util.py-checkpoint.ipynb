{
 "cells": [
  {
   "cell_type": "markdown",
   "metadata": {},
   "source": [
    "# コードのテスト\n",
    "## dataset/util.py の関数について\n",
    "- ファイルパス探すとかのutil関数群"
   ]
  },
  {
   "cell_type": "markdown",
   "metadata": {},
   "source": [
    "## モジュールimport"
   ]
  },
  {
   "cell_type": "code",
   "execution_count": 2,
   "metadata": {
    "scrolled": true
   },
   "outputs": [
    {
     "name": "stdout",
     "output_type": "stream",
     "text": [
      "util.py: loaded as module file\n"
     ]
    }
   ],
   "source": [
    "# モジュールimport\n",
    "import os, sys\n",
    "sys.path.append(r'C:\\Users\\shingo\\jupyter_notebook\\tfgpu_py36_work\\02_keras_py')\n",
    "from dataset import util"
   ]
  },
  {
   "cell_type": "markdown",
   "metadata": {},
   "source": [
    "### ファイルパス再帰的に探索し、pngかjpgのパスだけリストで返す"
   ]
  },
  {
   "cell_type": "code",
   "execution_count": 2,
   "metadata": {},
   "outputs": [
    {
     "name": "stdout",
     "output_type": "stream",
     "text": [
      "jpg_png_count: 451\n",
      "451\n",
      "jpg_png_count: 537\n",
      "537\n"
     ]
    }
   ],
   "source": [
    "dir = r'D:\\work\\keras_iPhone_pictures\\testSet_2018-06_predict'\n",
    "f1 = util.get_jpg_png_path_in_dir(dir)\n",
    "print(len(f1))\n",
    "\n",
    "dir = r'D:\\iPhone_pictures\\2018-08'\n",
    "f2 = util.get_jpg_png_path_in_dir(dir)\n",
    "print(len(f2))"
   ]
  },
  {
   "cell_type": "markdown",
   "metadata": {},
   "source": [
    "### pathlibを使って指定ディレクトリを再帰的になめ、jpg,pngのファイルパスをリストで返す"
   ]
  },
  {
   "cell_type": "code",
   "execution_count": 4,
   "metadata": {},
   "outputs": [
    {
     "name": "stdout",
     "output_type": "stream",
     "text": [
      "jpg_png_count: 451\n",
      "451\n",
      "jpg_png_count: 537\n",
      "537\n"
     ]
    }
   ],
   "source": [
    "dir = r'D:\\work\\keras_iPhone_pictures\\testSet_2018-06_predict'\n",
    "f1 = util.get_jpg_png_path_in_dir(dir)\n",
    "print(len(f1))\n",
    "\n",
    "dir = r'D:\\iPhone_pictures\\2018-08'\n",
    "f2 = util.get_jpg_png_path_in_dir(dir)\n",
    "print(len(f2))"
   ]
  },
  {
   "cell_type": "markdown",
   "metadata": {},
   "source": [
    "### umap/tsne"
   ]
  },
  {
   "cell_type": "code",
   "execution_count": 4,
   "metadata": {},
   "outputs": [
    {
     "name": "stdout",
     "output_type": "stream",
     "text": [
      "(1797, 64)\n"
     ]
    },
    {
     "data": {
      "image/png": "[encoded data removed]",
      "text/plain": [
       "<Figure size 432x288 with 2 Axes>"
      ]
     },
     "metadata": {
      "needs_background": "light"
     },
     "output_type": "display_data"
    }
   ],
   "source": [
    "%matplotlib inline\n",
    "from sklearn.datasets import load_digits\n",
    "digits = load_digits()\n",
    "x = digits.data\n",
    "print(x.shape)\n",
    "util.umap_tsne_scatter(x, y=digits.target, out_png='output_test/umap_scatter.png', is_axis_off=False)"
   ]
  },
  {
   "cell_type": "code",
   "execution_count": 5,
   "metadata": {},
   "outputs": [
    {
     "name": "stdout",
     "output_type": "stream",
     "text": [
      "(64, 1)\n"
     ]
    },
    {
     "data": {
      "image/png": "[encoded data removed]",
      "text/plain": [
       "<Figure size 432x288 with 1 Axes>"
      ]
     },
     "metadata": {
      "needs_background": "light"
     },
     "output_type": "display_data"
    }
   ],
   "source": [
    "%matplotlib inline\n",
    "from sklearn.datasets import load_digits\n",
    "digits = load_digits()\n",
    "x = digits.data[0].reshape(digits.data[0].shape[0], 1)\n",
    "\n",
    "print(x.shape)\n",
    "util.umap_tsne_scatter(x, out_png='output_test/umap_scatter.png')"
   ]
  },
  {
   "cell_type": "code",
   "execution_count": 6,
   "metadata": {},
   "outputs": [
    {
     "name": "stdout",
     "output_type": "stream",
     "text": [
      "(64, 1)\n"
     ]
    },
    {
     "data": {
      "image/png": "[encoded data removed]",
      "text/plain": [
       "<Figure size 432x288 with 1 Axes>"
      ]
     },
     "metadata": {
      "needs_background": "light"
     },
     "output_type": "display_data"
    }
   ],
   "source": [
    "%matplotlib inline\n",
    "from sklearn.datasets import load_digits\n",
    "digits = load_digits()\n",
    "x = digits.data[0].reshape(digits.data[0].shape[0], 1)\n",
    "\n",
    "print(x.shape)\n",
    "util.umap_tsne_scatter(x, out_png='output_test/umap_scatter.png', is_umap=False)"
   ]
  },
  {
   "cell_type": "code",
   "execution_count": null,
   "metadata": {},
   "outputs": [],
   "source": []
  }
 ],
 "metadata": {
  "hide_input": false,
  "kernelspec": {
   "display_name": "Python 3",
   "language": "python",
   "name": "python3"
  },
  "language_info": {
   "codemirror_mode": {
    "name": "ipython",
    "version": 3
   },
   "file_extension": ".py",
   "mimetype": "text/x-python",
   "name": "python",
   "nbconvert_exporter": "python",
   "pygments_lexer": "ipython3",
   "version": "3.6.8"
  },
  "toc": {
   "base_numbering": 1,
   "nav_menu": {},
   "number_sections": true,
   "sideBar": true,
   "skip_h1_title": false,
   "title_cell": "Table of Contents",
   "title_sidebar": "Contents",
   "toc_cell": false,
   "toc_position": {},
   "toc_section_display": true,
   "toc_window_display": false
  }
 },
 "nbformat": 4,
 "nbformat_minor": 2
}
