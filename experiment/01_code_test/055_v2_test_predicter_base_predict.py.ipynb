{
 "cells": [
  {
   "cell_type": "markdown",
   "metadata": {},
   "source": [
    "# コードのテスト\n",
    "## predicter_base_predict.py の関数について\n",
    "- 分類モデルの基本的なpredictについて"
   ]
  },
  {
   "cell_type": "code",
   "execution_count": 4,
   "metadata": {},
   "outputs": [],
   "source": [
    "# モジュールimport\n",
    "import os, sys\n",
    "sys.path.append(r'C:\\Users\\shingo\\jupyter_notebook\\tfgpu_py36_work\\02_keras_py')\n",
    "from predicter import base_predict\n",
    "from transformer import get_train_valid_test, my_generator\n",
    "from dataset import plot_log, prepare_data, util, plot_12task_log, util, pr_curve, set_split\n",
    "\n",
    "import keras\n",
    "import numpy as np\n",
    "import pandas as pd\n",
    "%matplotlib inline\n",
    "\n",
    "output_dir = r'output_test\\100x100\\predict'\n"
   ]
  },
  {
   "cell_type": "markdown",
   "metadata": {},
   "source": [
    "## base_predict.pred_from_1img\n",
    "- 1件のファイルパスから予測実行し、確率最大のラベル表示し、確率最大のid返す"
   ]
  },
  {
   "cell_type": "code",
   "execution_count": 3,
   "metadata": {
    "scrolled": false
   },
   "outputs": [
    {
     "name": "stdout",
     "output_type": "stream",
     "text": [
      "util.py: loaded as module file\n",
      "D:\\work\\AI_Edge_Contest\\object_detect\\cropped_img\\0\\train_00000.jpg_#1.jpg\n"
     ]
    },
    {
     "data": {
      "image/png": "[encoded data removed]",
      "text/plain": [
       "<Figure size 432x288 with 1 Axes>"
      ]
     },
     "metadata": {
      "needs_background": "light"
     },
     "output_type": "display_data"
    },
    {
     "name": "stdout",
     "output_type": "stream",
     "text": [
      "[[9.9936098e-01 5.0893109e-06 7.7061361e-07 4.3788397e-05 7.8612595e-07\n",
      "  5.8857485e-04]]\n",
      "classes: ['Car', 'Bicycle', 'Pedestrian', 'Signal', 'Signs', 'Truck']\n",
      "max_pred_label :  Car\n"
     ]
    },
    {
     "data": {
      "text/plain": [
       "(0, 0.999361)"
      ]
     },
     "execution_count": 3,
     "metadata": {},
     "output_type": "execute_result"
    }
   ],
   "source": [
    "model = keras.models.load_model(r'D:\\work\\AI_Edge_Contest\\object_detect\\classes\\trained_results\\class_0_5_model_InceptionResNetV2+SE_epoch10_from_02_keras_py\\finetuning.h5'\n",
    "                                , compile=False)\n",
    "\n",
    "pred_path = r'D:\\work\\AI_Edge_Contest\\object_detect\\cropped_img\\0\\train_00000.jpg_#1.jpg'\n",
    "classes = ['Car', 'Bicycle', 'Pedestrian', 'Signal', 'Signs', 'Truck']\n",
    "img_rows, img_cols = 331, 331\n",
    "show_img=True\n",
    "\n",
    "base_predict.pred_from_1img(model, pred_path, img_rows, img_cols, classes=classes, show_img=show_img)"
   ]
  },
  {
   "cell_type": "markdown",
   "metadata": {},
   "source": [
    "## base_predict.pred_from_1X\n",
    "- 1件の前処理済みの画像データから予測実行し、確率最大のラベル表示し、確率最大のid返す"
   ]
  },
  {
   "cell_type": "code",
   "execution_count": 5,
   "metadata": {},
   "outputs": [
    {
     "name": "stdout",
     "output_type": "stream",
     "text": [
      "predict_score: [[9.9936098e-01 5.0892913e-06 7.7061213e-07 4.3788314e-05 7.8612294e-07\n",
      "  5.8857125e-04]]\n",
      "classes: ['Car', 'Bicycle', 'Pedestrian', 'Signal', 'Signs', 'Truck']\n",
      "max_pred_label:  Car\n",
      "predict_score: [[9.9936098e-01 5.0892913e-06 7.7061213e-07 4.3788314e-05 7.8612294e-07\n",
      "  5.8857125e-04]]\n"
     ]
    },
    {
     "data": {
      "text/plain": [
       "(0, 0.999361)"
      ]
     },
     "execution_count": 5,
     "metadata": {},
     "output_type": "execute_result"
    }
   ],
   "source": [
    "from keras.preprocessing import image\n",
    "model = keras.models.load_model(r'D:\\work\\AI_Edge_Contest\\object_detect\\classes\\trained_results\\class_0_5_model_InceptionResNetV2+SE_epoch10_from_02_keras_py\\finetuning.h5'\n",
    "                                , compile=False)\n",
    "\n",
    "pred_path = r'D:\\work\\AI_Edge_Contest\\object_detect\\cropped_img\\0\\train_00000.jpg_#1.jpg'\n",
    "classes = ['Car', 'Bicycle', 'Pedestrian', 'Signal', 'Signs', 'Truck']\n",
    "img_rows, img_cols = 331, 331\n",
    "show_img=True\n",
    "\n",
    "img = image.load_img(pred_path, target_size=(img_rows, img_cols))\n",
    "X = image.img_to_array(img)/255.0\n",
    "\n",
    "base_predict.pred_from_1X(model, X, classes=classes)\n",
    "base_predict.pred_from_1X(model, X)"
   ]
  },
  {
   "cell_type": "markdown",
   "metadata": {},
   "source": [
    "## base_predict.predict_tta\n",
    "- albumentationsで水平反転,回転,切り抜き画像作成してTTA"
   ]
  },
  {
   "cell_type": "code",
   "execution_count": 4,
   "metadata": {},
   "outputs": [
    {
     "name": "stdout",
     "output_type": "stream",
     "text": [
      "(331, 331, 3)\n",
      "[8.3075833e-01 3.2036885e-04 7.2674896e-04 4.6048341e-03 2.7056644e-04\n",
      " 1.6331911e-01]\n"
     ]
    }
   ],
   "source": [
    "from keras.preprocessing import image\n",
    "model = keras.models.load_model(r'D:\\work\\AI_Edge_Contest\\object_detect\\classes\\trained_results\\class_0_5_model_InceptionResNetV2+SE_epoch10_from_02_keras_py\\finetuning.h5'\n",
    "                                , compile=False)\n",
    "\n",
    "pred_path = r'D:\\work\\AI_Edge_Contest\\object_detect\\cropped_img\\0\\train_00000.jpg_#1.jpg'\n",
    "img_rows, img_cols = 331, 331\n",
    "\n",
    "img = image.load_img(pred_path, target_size=(img_rows, img_cols))\n",
    "x = image.img_to_array(img)\n",
    "print(x.shape)\n",
    "pred = base_predict.predict_tta(model, x, TTA_rotate_deg=120, TTA_crop_num=5)\n",
    "print(pred)"
   ]
  },
  {
   "cell_type": "markdown",
   "metadata": {},
   "source": [
    "## base_predict.pred_classes_generator\n",
    "- 多クラス分類のgenerator からgenerator の指定ディレクトリの画像全件予測する\n",
    "\n",
    "## base_predict.conf_matrix_from_pred_classes_generator\n",
    "- pred_classes_generator() でだした値からconf_matrix.make_confusion_matrix() で混同行列作る"
   ]
  },
  {
   "cell_type": "code",
   "execution_count": 3,
   "metadata": {},
   "outputs": [
    {
     "name": "stdout",
     "output_type": "stream",
     "text": [
      "my_generator.py: loaded as module file\n",
      "Found 338 images belonging to 11 classes.\n",
      "conf_matrix.py: loaded as module file\n",
      "y_pred_list_str: ['beagle' 'beagle' 'beagle' 'beagle' 'beagle' 'beagle' 'beagle' 'other'\n",
      " 'beagle' 'beagle' 'beagle' 'beagle' 'beagle' 'beagle' 'beagle' 'beagle'\n",
      " 'beagle' 'beagle' 'other' 'beagle' 'other' 'beagle' 'shingo' 'beagle'\n",
      " 'beagle' 'beagle' 'beagle' 'beagle' 'beagle' 'other' 'beagle' 'beagle'\n",
      " 'beagle' 'beagle' 'beagle' 'beagle' 'beagle' 'beagle' 'shingo' 'beagle'\n",
      " 'bikini' 'bikini' 'bikini' 'bikini' 'bikini' 'bikini' 'bikini' 'bikini'\n",
      " 'bikini' 'bikini' 'bikini' 'bikini' 'bikini' 'bikini' 'bikini' 'bikini'\n",
      " 'bikini' 'bikini' 'bikini' 'bikini' 'bikini' 'bikini' 'bikini' 'bikini'\n",
      " 'bikini' 'bikini' 'bikini' 'bikini' 'bikini' 'bikini' 'bikini' 'bikini'\n",
      " 'bikini' 'bikini' 'bikini' 'bikini' 'bikini' 'bikini' 'bikini' 'bikini'\n",
      " 'boke' 'beagle' 'shingo' 'other' 'other' 'cat' 'cat' 'cat' 'cat'\n",
      " 'comic_book' 'comic_book' 'comic_book' 'comic_book' 'other' 'marin'\n",
      " 'comic_book' 'comic_book' 'shingo' 'comic_book' 'comic_book' 'marin'\n",
      " 'bikini' 'bikini' 'marin' 'comic_book' 'other' 'other' 'comic_book'\n",
      " 'bikini' 'comic_book' 'bikini' 'other' 'other' 'bikini' 'comic_book'\n",
      " 'comic_book' 'comic_book' 'comic_book' 'other' 'comic_book' 'comic_book'\n",
      " 'boke' 'comic_book' 'comic_book' 'comic_book' 'comic_book' 'fashion'\n",
      " 'comic_book' 'comic_book' 'fashion' 'fashion' 'fashion' 'fashion'\n",
      " 'fashion' 'fashion' 'fashion' 'fashion' 'fashion' 'fashion' 'fashion'\n",
      " 'fashion' 'fashion' 'fashion' 'fashion' 'fashion' 'fashion' 'fashion'\n",
      " 'fashion' 'fashion' 'fashion' 'fashion' 'fashion' 'fashion' 'fashion'\n",
      " 'fashion' 'fashion' 'fashion' 'fashion' 'fashion' 'fashion' 'fashion'\n",
      " 'fashion' 'fashion' 'fashion' 'fashion' 'fashion' 'fashion' 'fashion'\n",
      " 'fashion' 'other' 'other' 'other' 'other' 'other' 'other' 'marin' 'marin'\n",
      " 'marin' 'marin' 'marin' 'marin' 'marin' 'marin' 'marin' 'marin' 'marin'\n",
      " 'marin' 'other' 'other' 'marin' 'marin' 'marin' 'marin' 'marin' 'marin'\n",
      " 'marin' 'marin' 'other' 'other' 'marin' 'shingo' 'marin' 'other' 'marin'\n",
      " 'marin' 'marin' 'comic_book' 'marin' 'marin' 'other' 'other' 'other'\n",
      " 'other' 'other' 'boke' 'other' 'other' 'other' 'other' 'marin' 'other'\n",
      " 'other' 'fashion' 'other' 'other' 'other' 'marin' 'other' 'marin' 'marin'\n",
      " 'other' 'other' 'marin' 'other' 'shingo' 'other' 'other' 'other' 'other'\n",
      " 'shingo' 'other' 'other' 'other' 'other' 'other' 'marin' 'other' 'other'\n",
      " 'other' 'shingo' 'shingo' 'shingo' 'other' 'shingo' 'shingo' 'shingo'\n",
      " 'shingo' 'shingo' 'shingo' 'shingo' 'shingo' 'shingo' 'shingo' 'marin'\n",
      " 'other' 'other' 'shingo' 'other' 'shingo' 'shingo' 'other' 'other'\n",
      " 'other' 'shingo' 'shingo' 'shingo' 'other' 'shingo' 'shingo' 'shingo'\n",
      " 'shingo' 'shingo' 'shingo' 'shingo' 'shingo' 'shingo' 'shingo' 'shingo'\n",
      " 'shingo' 'fashion' 'suit' 'suit' 'suit' 'suit' 'fashion' 'suit' 'suit'\n",
      " 'suit' 'tumblr' 'tumblr' 'tumblr' 'tumblr' 'tumblr' 'tumblr' 'tumblr'\n",
      " 'tumblr' 'tumblr' 'tumblr' 'tumblr' 'tumblr' 'tumblr' 'tumblr' 'tumblr'\n",
      " 'tumblr' 'tumblr' 'tumblr' 'tumblr' 'tumblr' 'tumblr' 'tumblr' 'tumblr'\n",
      " 'tumblr' 'tumblr' 'tumblr' 'tumblr' 'tumblr' 'tumblr' 'tumblr' 'tumblr'\n",
      " 'tumblr' 'tumblr' 'tumblr' 'tumblr' 'tumblr' 'tumblr' 'tumblr' 'tumblr'\n",
      " 'tumblr']\n",
      "y_true_label_np: ['beagle' 'beagle' 'beagle' 'beagle' 'beagle' 'beagle' 'beagle' 'beagle'\n",
      " 'beagle' 'beagle' 'beagle' 'beagle' 'beagle' 'beagle' 'beagle' 'beagle'\n",
      " 'beagle' 'beagle' 'beagle' 'beagle' 'beagle' 'beagle' 'beagle' 'beagle'\n",
      " 'beagle' 'beagle' 'beagle' 'beagle' 'beagle' 'beagle' 'beagle' 'beagle'\n",
      " 'beagle' 'beagle' 'beagle' 'beagle' 'beagle' 'beagle' 'beagle' 'beagle'\n",
      " 'bikini' 'bikini' 'bikini' 'bikini' 'bikini' 'bikini' 'bikini' 'bikini'\n",
      " 'bikini' 'bikini' 'bikini' 'bikini' 'bikini' 'bikini' 'bikini' 'bikini'\n",
      " 'bikini' 'bikini' 'bikini' 'bikini' 'bikini' 'bikini' 'bikini' 'bikini'\n",
      " 'bikini' 'bikini' 'bikini' 'bikini' 'bikini' 'bikini' 'bikini' 'bikini'\n",
      " 'bikini' 'bikini' 'bikini' 'bikini' 'bikini' 'bikini' 'bikini' 'bikini'\n",
      " 'boke' 'boke' 'boke' 'boke' 'boke' 'cat' 'cat' 'cat' 'cat' 'comic_book'\n",
      " 'comic_book' 'comic_book' 'comic_book' 'comic_book' 'comic_book'\n",
      " 'comic_book' 'comic_book' 'comic_book' 'comic_book' 'comic_book'\n",
      " 'comic_book' 'comic_book' 'comic_book' 'comic_book' 'comic_book'\n",
      " 'comic_book' 'comic_book' 'comic_book' 'comic_book' 'comic_book'\n",
      " 'comic_book' 'comic_book' 'comic_book' 'comic_book' 'comic_book'\n",
      " 'comic_book' 'comic_book' 'comic_book' 'comic_book' 'comic_book'\n",
      " 'comic_book' 'comic_book' 'comic_book' 'comic_book' 'comic_book'\n",
      " 'comic_book' 'comic_book' 'comic_book' 'comic_book' 'fashion' 'fashion'\n",
      " 'fashion' 'fashion' 'fashion' 'fashion' 'fashion' 'fashion' 'fashion'\n",
      " 'fashion' 'fashion' 'fashion' 'fashion' 'fashion' 'fashion' 'fashion'\n",
      " 'fashion' 'fashion' 'fashion' 'fashion' 'fashion' 'fashion' 'fashion'\n",
      " 'fashion' 'fashion' 'fashion' 'fashion' 'fashion' 'fashion' 'fashion'\n",
      " 'fashion' 'fashion' 'fashion' 'fashion' 'fashion' 'fashion' 'fashion'\n",
      " 'fashion' 'fashion' 'fashion' 'marin' 'marin' 'marin' 'marin' 'marin'\n",
      " 'marin' 'marin' 'marin' 'marin' 'marin' 'marin' 'marin' 'marin' 'marin'\n",
      " 'marin' 'marin' 'marin' 'marin' 'marin' 'marin' 'marin' 'marin' 'marin'\n",
      " 'marin' 'marin' 'marin' 'marin' 'marin' 'marin' 'marin' 'marin' 'marin'\n",
      " 'marin' 'marin' 'marin' 'marin' 'marin' 'marin' 'marin' 'marin' 'other'\n",
      " 'other' 'other' 'other' 'other' 'other' 'other' 'other' 'other' 'other'\n",
      " 'other' 'other' 'other' 'other' 'other' 'other' 'other' 'other' 'other'\n",
      " 'other' 'other' 'other' 'other' 'other' 'other' 'other' 'other' 'other'\n",
      " 'other' 'other' 'other' 'other' 'other' 'other' 'other' 'other' 'other'\n",
      " 'other' 'other' 'other' 'shingo' 'shingo' 'shingo' 'shingo' 'shingo'\n",
      " 'shingo' 'shingo' 'shingo' 'shingo' 'shingo' 'shingo' 'shingo' 'shingo'\n",
      " 'shingo' 'shingo' 'shingo' 'shingo' 'shingo' 'shingo' 'shingo' 'shingo'\n",
      " 'shingo' 'shingo' 'shingo' 'shingo' 'shingo' 'shingo' 'shingo' 'shingo'\n",
      " 'shingo' 'shingo' 'shingo' 'shingo' 'shingo' 'shingo' 'shingo' 'shingo'\n",
      " 'shingo' 'shingo' 'shingo' 'suit' 'suit' 'suit' 'suit' 'suit' 'suit'\n",
      " 'suit' 'suit' 'suit' 'tumblr' 'tumblr' 'tumblr' 'tumblr' 'tumblr'\n",
      " 'tumblr' 'tumblr' 'tumblr' 'tumblr' 'tumblr' 'tumblr' 'tumblr' 'tumblr'\n",
      " 'tumblr' 'tumblr' 'tumblr' 'tumblr' 'tumblr' 'tumblr' 'tumblr' 'tumblr'\n",
      " 'tumblr' 'tumblr' 'tumblr' 'tumblr' 'tumblr' 'tumblr' 'tumblr' 'tumblr'\n",
      " 'tumblr' 'tumblr' 'tumblr' 'tumblr' 'tumblr' 'tumblr' 'tumblr' 'tumblr'\n",
      " 'tumblr' 'tumblr' 'tumblr']\n",
      "------------------------------------\n",
      "out_dir: output_test\\100x100\\predict\n",
      "              precision    recall  f1-score   support\n",
      "\n",
      "      beagle       0.97      0.85      0.91        40\n",
      "      bikini       0.89      1.00      0.94        40\n",
      "        boke       0.33      0.20      0.25         5\n",
      "         cat       1.00      1.00      1.00         4\n",
      "  comic_book       0.96      0.57      0.72        40\n",
      "     fashion       0.91      1.00      0.95        40\n",
      "       marin       0.73      0.68      0.70        40\n",
      "       other       0.49      0.75      0.59        40\n",
      "      shingo       0.82      0.78      0.79        40\n",
      "        suit       1.00      0.78      0.88         9\n",
      "      tumblr       1.00      1.00      1.00        40\n",
      "\n",
      "   micro avg       0.82      0.82      0.82       338\n",
      "   macro avg       0.83      0.78      0.79       338\n",
      "weighted avg       0.84      0.82      0.82       338\n",
      "\n",
      "Confusion matrix, without normalization\n"
     ]
    },
    {
     "data": {
      "image/png": "[encoded data removed]",
      "text/plain": [
       "<Figure size 432x288 with 2 Axes>"
      ]
     },
     "metadata": {
      "needs_background": "light"
     },
     "output_type": "display_data"
    },
    {
     "data": {
      "text/plain": [
       "<Figure size 432x288 with 0 Axes>"
      ]
     },
     "metadata": {},
     "output_type": "display_data"
    }
   ],
   "source": [
    "model = keras.models.load_model(r'D:\\work\\keras_iPhone_pictures\\01_classes_results_tfgpu_py36\\20190122\\finetuning.h5'\n",
    "                                , compile=False)\n",
    "\n",
    "train_data_dir = r'D:\\work\\keras_iPhone_pictures\\InceptionResNetV2_small_set\\train_400\\train'\n",
    "validation_data_dir = r'D:\\work\\keras_iPhone_pictures\\InceptionResNetV2_small_set\\train_400\\validation'\n",
    "val_samples = util.file_count(validation_data_dir, r'.JPG')+util.file_count(validation_data_dir, r'.PNG')+util.file_count(validation_data_dir, r'.jpg')+util.file_count(validation_data_dir, r'.png')\n",
    "\n",
    "img_rows, img_cols, channels = 331, 331, 3\n",
    "batch_size = 10\n",
    "classes = ['beagle', 'bikini', 'boke', 'cat', 'comic_book', 'fashion', 'marin', 'other', 'shingo', 'suit', 'tumblr']\n",
    "\n",
    "my_IDG_options={'rescale': 1.0/255.0\n",
    "                 , 'horizontal_flip': True}\n",
    "\n",
    "d_cls = get_train_valid_test.LabeledDataset([img_rows, img_cols, channels]\n",
    "                                            , batch_size\n",
    "                                            , valid_batch_size=batch_size\n",
    "                                           )\n",
    "\n",
    "d_cls.create_my_generator_flow_from_directory(train_data_dir\n",
    "                                              , classes\n",
    "                                              , valid_data_dir=validation_data_dir\n",
    "                                              , color_mode='rgb'\n",
    "                                              , class_mode='categorical'\n",
    "                                              , my_IDG_options=my_IDG_options)\n",
    "\n",
    "pred_df = base_predict.pred_classes_generator(model, d_cls.valid_gen,  steps=(val_samples//batch_size)+1, classes_list=classes)\n",
    "\n",
    "base_predict.conf_matrix_from_pred_classes_generator(pred_df, classes, output_dir)"
   ]
  },
  {
   "cell_type": "markdown",
   "metadata": {},
   "source": [
    "## base_predict.predict_tta_generator\n",
    "- flowやflow_from_directory 済みのImageDataGenerator からTTA を実行\n",
    "\n",
    "## base_predict.get_predict_generator_results\n",
    "- 多クラス分類予測結果（スコア）のリスト とgenerator からデータフレームでファイル名と予測ラベル返す"
   ]
  },
  {
   "cell_type": "code",
   "execution_count": 3,
   "metadata": {
    "scrolled": true
   },
   "outputs": [
    {
     "name": "stdout",
     "output_type": "stream",
     "text": [
      "my_IDG_options: {'rescale': 0.00392156862745098, 'horizontal_flip': True}\n",
      "Found 338 images belonging to 11 classes.\n",
      "conf_matrix.py: loaded as module file\n",
      "y_pred_list_str: ['beagle' 'beagle' 'beagle' 'beagle' 'other' 'beagle' 'beagle' 'other'\n",
      " 'beagle' 'beagle' 'beagle' 'beagle' 'beagle' 'beagle' 'beagle' 'beagle'\n",
      " 'beagle' 'beagle' 'other' 'beagle' 'other' 'beagle' 'fashion' 'beagle'\n",
      " 'beagle' 'beagle' 'beagle' 'beagle' 'beagle' 'other' 'beagle' 'beagle'\n",
      " 'beagle' 'beagle' 'beagle' 'beagle' 'beagle' 'beagle' 'shingo' 'beagle'\n",
      " 'bikini' 'bikini' 'bikini' 'bikini' 'bikini' 'bikini' 'bikini' 'bikini'\n",
      " 'bikini' 'bikini' 'bikini' 'bikini' 'bikini' 'bikini' 'bikini' 'bikini'\n",
      " 'bikini' 'bikini' 'bikini' 'bikini' 'bikini' 'bikini' 'bikini' 'bikini'\n",
      " 'bikini' 'bikini' 'bikini' 'bikini' 'bikini' 'bikini' 'bikini' 'bikini'\n",
      " 'bikini' 'bikini' 'bikini' 'bikini' 'bikini' 'bikini' 'bikini' 'bikini'\n",
      " 'boke' 'beagle' 'boke' 'other' 'other' 'cat' 'cat' 'cat' 'cat'\n",
      " 'comic_book' 'comic_book' 'comic_book' 'comic_book' 'other' 'marin'\n",
      " 'comic_book' 'comic_book' 'shingo' 'comic_book' 'comic_book' 'comic_book'\n",
      " 'bikini' 'bikini' 'marin' 'comic_book' 'other' 'other' 'comic_book'\n",
      " 'bikini' 'comic_book' 'bikini' 'other' 'other' 'bikini' 'comic_book'\n",
      " 'comic_book' 'comic_book' 'comic_book' 'other' 'comic_book' 'comic_book'\n",
      " 'boke' 'comic_book' 'comic_book' 'comic_book' 'comic_book' 'fashion'\n",
      " 'comic_book' 'comic_book' 'fashion' 'fashion' 'fashion' 'fashion'\n",
      " 'fashion' 'fashion' 'fashion' 'fashion' 'fashion' 'fashion' 'fashion'\n",
      " 'fashion' 'fashion' 'fashion' 'fashion' 'fashion' 'fashion' 'fashion'\n",
      " 'fashion' 'fashion' 'fashion' 'fashion' 'fashion' 'fashion' 'fashion'\n",
      " 'fashion' 'fashion' 'fashion' 'fashion' 'fashion' 'fashion' 'fashion'\n",
      " 'fashion' 'fashion' 'fashion' 'fashion' 'fashion' 'fashion' 'fashion'\n",
      " 'fashion' 'other' 'other' 'marin' 'marin' 'other' 'other' 'marin' 'marin'\n",
      " 'marin' 'marin' 'marin' 'marin' 'marin' 'marin' 'marin' 'marin' 'marin'\n",
      " 'marin' 'other' 'other' 'marin' 'marin' 'marin' 'marin' 'marin' 'marin'\n",
      " 'marin' 'marin' 'other' 'other' 'marin' 'shingo' 'marin' 'other' 'marin'\n",
      " 'marin' 'marin' 'comic_book' 'marin' 'marin' 'other' 'other' 'other'\n",
      " 'other' 'other' 'boke' 'other' 'other' 'other' 'other' 'marin' 'other'\n",
      " 'other' 'fashion' 'other' 'other' 'other' 'marin' 'other' 'marin' 'marin'\n",
      " 'other' 'other' 'marin' 'other' 'shingo' 'other' 'other' 'other' 'other'\n",
      " 'shingo' 'other' 'other' 'other' 'other' 'other' 'marin' 'shingo' 'other'\n",
      " 'other' 'shingo' 'shingo' 'shingo' 'other' 'shingo' 'shingo' 'shingo'\n",
      " 'shingo' 'shingo' 'shingo' 'shingo' 'shingo' 'shingo' 'shingo' 'other'\n",
      " 'other' 'other' 'other' 'other' 'shingo' 'shingo' 'other' 'other' 'other'\n",
      " 'shingo' 'shingo' 'shingo' 'other' 'shingo' 'shingo' 'shingo' 'shingo'\n",
      " 'shingo' 'shingo' 'shingo' 'shingo' 'shingo' 'shingo' 'shingo' 'other'\n",
      " 'fashion' 'suit' 'suit' 'suit' 'suit' 'fashion' 'suit' 'suit' 'suit'\n",
      " 'tumblr' 'tumblr' 'tumblr' 'tumblr' 'tumblr' 'tumblr' 'tumblr' 'tumblr'\n",
      " 'tumblr' 'tumblr' 'tumblr' 'tumblr' 'tumblr' 'tumblr' 'tumblr' 'tumblr'\n",
      " 'tumblr' 'tumblr' 'tumblr' 'tumblr' 'tumblr' 'tumblr' 'tumblr' 'tumblr'\n",
      " 'tumblr' 'tumblr' 'tumblr' 'tumblr' 'tumblr' 'tumblr' 'tumblr' 'tumblr'\n",
      " 'tumblr' 'tumblr' 'tumblr' 'tumblr' 'tumblr' 'tumblr' 'tumblr' 'tumblr']\n",
      "y_true_label_np: ['beagle' 'beagle' 'beagle' 'beagle' 'beagle' 'beagle' 'beagle' 'beagle'\n",
      " 'beagle' 'beagle' 'beagle' 'beagle' 'beagle' 'beagle' 'beagle' 'beagle'\n",
      " 'beagle' 'beagle' 'beagle' 'beagle' 'beagle' 'beagle' 'beagle' 'beagle'\n",
      " 'beagle' 'beagle' 'beagle' 'beagle' 'beagle' 'beagle' 'beagle' 'beagle'\n",
      " 'beagle' 'beagle' 'beagle' 'beagle' 'beagle' 'beagle' 'beagle' 'beagle'\n",
      " 'bikini' 'bikini' 'bikini' 'bikini' 'bikini' 'bikini' 'bikini' 'bikini'\n",
      " 'bikini' 'bikini' 'bikini' 'bikini' 'bikini' 'bikini' 'bikini' 'bikini'\n",
      " 'bikini' 'bikini' 'bikini' 'bikini' 'bikini' 'bikini' 'bikini' 'bikini'\n",
      " 'bikini' 'bikini' 'bikini' 'bikini' 'bikini' 'bikini' 'bikini' 'bikini'\n",
      " 'bikini' 'bikini' 'bikini' 'bikini' 'bikini' 'bikini' 'bikini' 'bikini'\n",
      " 'boke' 'boke' 'boke' 'boke' 'boke' 'cat' 'cat' 'cat' 'cat' 'comic_book'\n",
      " 'comic_book' 'comic_book' 'comic_book' 'comic_book' 'comic_book'\n",
      " 'comic_book' 'comic_book' 'comic_book' 'comic_book' 'comic_book'\n",
      " 'comic_book' 'comic_book' 'comic_book' 'comic_book' 'comic_book'\n",
      " 'comic_book' 'comic_book' 'comic_book' 'comic_book' 'comic_book'\n",
      " 'comic_book' 'comic_book' 'comic_book' 'comic_book' 'comic_book'\n",
      " 'comic_book' 'comic_book' 'comic_book' 'comic_book' 'comic_book'\n",
      " 'comic_book' 'comic_book' 'comic_book' 'comic_book' 'comic_book'\n",
      " 'comic_book' 'comic_book' 'comic_book' 'comic_book' 'fashion' 'fashion'\n",
      " 'fashion' 'fashion' 'fashion' 'fashion' 'fashion' 'fashion' 'fashion'\n",
      " 'fashion' 'fashion' 'fashion' 'fashion' 'fashion' 'fashion' 'fashion'\n",
      " 'fashion' 'fashion' 'fashion' 'fashion' 'fashion' 'fashion' 'fashion'\n",
      " 'fashion' 'fashion' 'fashion' 'fashion' 'fashion' 'fashion' 'fashion'\n",
      " 'fashion' 'fashion' 'fashion' 'fashion' 'fashion' 'fashion' 'fashion'\n",
      " 'fashion' 'fashion' 'fashion' 'marin' 'marin' 'marin' 'marin' 'marin'\n",
      " 'marin' 'marin' 'marin' 'marin' 'marin' 'marin' 'marin' 'marin' 'marin'\n",
      " 'marin' 'marin' 'marin' 'marin' 'marin' 'marin' 'marin' 'marin' 'marin'\n",
      " 'marin' 'marin' 'marin' 'marin' 'marin' 'marin' 'marin' 'marin' 'marin'\n",
      " 'marin' 'marin' 'marin' 'marin' 'marin' 'marin' 'marin' 'marin' 'other'\n",
      " 'other' 'other' 'other' 'other' 'other' 'other' 'other' 'other' 'other'\n",
      " 'other' 'other' 'other' 'other' 'other' 'other' 'other' 'other' 'other'\n",
      " 'other' 'other' 'other' 'other' 'other' 'other' 'other' 'other' 'other'\n",
      " 'other' 'other' 'other' 'other' 'other' 'other' 'other' 'other' 'other'\n",
      " 'other' 'other' 'other' 'shingo' 'shingo' 'shingo' 'shingo' 'shingo'\n",
      " 'shingo' 'shingo' 'shingo' 'shingo' 'shingo' 'shingo' 'shingo' 'shingo'\n",
      " 'shingo' 'shingo' 'shingo' 'shingo' 'shingo' 'shingo' 'shingo' 'shingo'\n",
      " 'shingo' 'shingo' 'shingo' 'shingo' 'shingo' 'shingo' 'shingo' 'shingo'\n",
      " 'shingo' 'shingo' 'shingo' 'shingo' 'shingo' 'shingo' 'shingo' 'shingo'\n",
      " 'shingo' 'shingo' 'shingo' 'suit' 'suit' 'suit' 'suit' 'suit' 'suit'\n",
      " 'suit' 'suit' 'suit' 'tumblr' 'tumblr' 'tumblr' 'tumblr' 'tumblr'\n",
      " 'tumblr' 'tumblr' 'tumblr' 'tumblr' 'tumblr' 'tumblr' 'tumblr' 'tumblr'\n",
      " 'tumblr' 'tumblr' 'tumblr' 'tumblr' 'tumblr' 'tumblr' 'tumblr' 'tumblr'\n",
      " 'tumblr' 'tumblr' 'tumblr' 'tumblr' 'tumblr' 'tumblr' 'tumblr' 'tumblr'\n",
      " 'tumblr' 'tumblr' 'tumblr' 'tumblr' 'tumblr' 'tumblr' 'tumblr' 'tumblr'\n",
      " 'tumblr' 'tumblr' 'tumblr']\n",
      "------------------------------------\n",
      "out_dir: output_test\\100x100\\predict\\prediction\\valid_TTA\n",
      "              precision    recall  f1-score   support\n",
      "\n",
      "      beagle       0.97      0.82      0.89        40\n",
      "      bikini       0.89      1.00      0.94        40\n",
      "        boke       0.50      0.40      0.44         5\n",
      "         cat       1.00      1.00      1.00         4\n",
      "  comic_book       0.96      0.60      0.74        40\n",
      "     fashion       0.89      1.00      0.94        40\n",
      "       marin       0.78      0.72      0.75        40\n",
      "       other       0.47      0.72      0.57        40\n",
      "      shingo       0.83      0.72      0.77        40\n",
      "        suit       1.00      0.78      0.88         9\n",
      "      tumblr       1.00      1.00      1.00        40\n",
      "\n",
      "   micro avg       0.82      0.82      0.82       338\n",
      "   macro avg       0.84      0.80      0.81       338\n",
      "weighted avg       0.85      0.82      0.82       338\n",
      "\n",
      "Confusion matrix, without normalization\n"
     ]
    },
    {
     "data": {
      "image/png": "[encoded data removed]",
      "text/plain": [
       "<Figure size 432x288 with 2 Axes>"
      ]
     },
     "metadata": {
      "needs_background": "light"
     },
     "output_type": "display_data"
    },
    {
     "data": {
      "text/html": [
       "<div>\n",
       "<style scoped>\n",
       "    .dataframe tbody tr th:only-of-type {\n",
       "        vertical-align: middle;\n",
       "    }\n",
       "\n",
       "    .dataframe tbody tr th {\n",
       "        vertical-align: top;\n",
       "    }\n",
       "\n",
       "    .dataframe thead th {\n",
       "        text-align: right;\n",
       "    }\n",
       "</style>\n",
       "<table border=\"1\" class=\"dataframe\">\n",
       "  <thead>\n",
       "    <tr style=\"text-align: right;\">\n",
       "      <th></th>\n",
       "      <th>Filename</th>\n",
       "      <th>PredictionLabel</th>\n",
       "      <th>PredictionScore</th>\n",
       "    </tr>\n",
       "  </thead>\n",
       "  <tbody>\n",
       "    <tr>\n",
       "      <th>0</th>\n",
       "      <td>beagle\\Boston_bull_IMG_9631.JPG</td>\n",
       "      <td>beagle</td>\n",
       "      <td>0.916</td>\n",
       "    </tr>\n",
       "    <tr>\n",
       "      <th>1</th>\n",
       "      <td>beagle\\Brittany_spaniel_IMG_4224.JPG</td>\n",
       "      <td>beagle</td>\n",
       "      <td>0.698</td>\n",
       "    </tr>\n",
       "    <tr>\n",
       "      <th>2</th>\n",
       "      <td>beagle\\Chihuahua_IMG_4561.JPG</td>\n",
       "      <td>beagle</td>\n",
       "      <td>1.0</td>\n",
       "    </tr>\n",
       "    <tr>\n",
       "      <th>3</th>\n",
       "      <td>beagle\\Chihuahua_IMG_5361.JPG</td>\n",
       "      <td>beagle</td>\n",
       "      <td>0.995</td>\n",
       "    </tr>\n",
       "    <tr>\n",
       "      <th>4</th>\n",
       "      <td>beagle\\Chihuahua_IMG_7405.JPG</td>\n",
       "      <td>other</td>\n",
       "      <td>0.667</td>\n",
       "    </tr>\n",
       "  </tbody>\n",
       "</table>\n",
       "</div>"
      ],
      "text/plain": [
       "                               Filename PredictionLabel PredictionScore\n",
       "0       beagle\\Boston_bull_IMG_9631.JPG          beagle           0.916\n",
       "1  beagle\\Brittany_spaniel_IMG_4224.JPG          beagle           0.698\n",
       "2         beagle\\Chihuahua_IMG_4561.JPG          beagle             1.0\n",
       "3         beagle\\Chihuahua_IMG_5361.JPG          beagle           0.995\n",
       "4         beagle\\Chihuahua_IMG_7405.JPG           other           0.667"
      ]
     },
     "execution_count": 3,
     "metadata": {},
     "output_type": "execute_result"
    },
    {
     "data": {
      "text/plain": [
       "<Figure size 432x288 with 0 Axes>"
      ]
     },
     "metadata": {},
     "output_type": "display_data"
    }
   ],
   "source": [
    "model = keras.models.load_model(r'D:\\work\\keras_iPhone_pictures\\01_classes_results_tfgpu_py36\\20190122\\finetuning.h5'\n",
    "                                , compile=False)\n",
    "\n",
    "train_data_dir = r'D:\\work\\keras_iPhone_pictures\\InceptionResNetV2_small_set\\train_400\\train'\n",
    "validation_data_dir = r'D:\\work\\keras_iPhone_pictures\\InceptionResNetV2_small_set\\train_400\\validation'\n",
    "val_samples = util.file_count(validation_data_dir, r'.JPG')+util.file_count(validation_data_dir, r'.PNG')+util.file_count(validation_data_dir, r'.jpg')+util.file_count(validation_data_dir, r'.png')\n",
    "\n",
    "img_rows, img_cols, channels = 331, 331, 3\n",
    "batch_size = 10\n",
    "classes = ['beagle', 'bikini', 'boke', 'cat', 'comic_book', 'fashion', 'marin', 'other', 'shingo', 'suit', 'tumblr']\n",
    "\n",
    "my_IDG_options={'rescale': 1.0/255.0\n",
    "                 , 'horizontal_flip': True}\n",
    "\n",
    "d_cls = get_train_valid_test.LabeledDataset([img_rows, img_cols, channels]\n",
    "                                            , batch_size\n",
    "                                            , valid_batch_size=batch_size\n",
    "                                           )\n",
    "\n",
    "d_cls.create_my_generator_flow_from_directory(train_data_dir\n",
    "                                              , classes\n",
    "                                              , valid_data_dir=validation_data_dir\n",
    "                                              , color_mode='rgb'\n",
    "                                              , class_mode='categorical'\n",
    "                                              , my_IDG_options=my_IDG_options)\n",
    "\n",
    "# generatorのnextからTTAする場合\n",
    "# validation set\n",
    "# TTA\n",
    "pred_tta = base_predict.predict_tta_generator(model, d_cls.valid_gen)\n",
    "pred_tta_df = base_predict.get_predict_generator_results(pred_tta, d_cls.valid_gen, classes_list=classes)\n",
    "\n",
    "# 出力先ディレクトリ\n",
    "pred_output_dir = os.path.join(output_dir, 'prediction', 'valid_TTA')\n",
    "os.makedirs(pred_output_dir, exist_ok=True)\n",
    "\n",
    "# 予測結果のデータフレームから混同行列作成\n",
    "base_predict.conf_matrix_from_pred_classes_generator(pred_tta_df, classes, pred_output_dir)\n",
    "\n",
    "# 予測結果のデータフレーム出力\n",
    "pred_tta_df.to_csv(os.path.join(pred_output_dir, 'pred.tsv'), sep='\\t')\n",
    "pred_tta_df.head()"
   ]
  },
  {
   "cell_type": "markdown",
   "metadata": {},
   "source": [
    "## base_predict.pred_tta_from_paths\n",
    "- 指定のファイルパス全件 predict_tta() で予測実行し、ファイルパス、確率最大のラベル名、scoreの予測結果のデータフレームを返す"
   ]
  },
  {
   "cell_type": "code",
   "execution_count": 5,
   "metadata": {},
   "outputs": [
    {
     "name": "stdout",
     "output_type": "stream",
     "text": [
      "jpg_png_count: 537\n",
      "Processing D:/iPhone_pictures/2018-08/JCOM8277.PNG: 100%|████████████████████████████| 537/537 [01:08<00:00, 14.57it/s]\n",
      "                                  Filename PredictionLabel  PredictionScore\n",
      "0  D:/iPhone_pictures/2018-08/IMG_0457.PNG         fashion         0.871384\n",
      "1  D:/iPhone_pictures/2018-08/IMG_2239.PNG         fashion         0.885098\n",
      "2  D:/iPhone_pictures/2018-08/IMG_2937.JPG      comic_book         0.954106\n",
      "3  D:/iPhone_pictures/2018-08/IMG_4460.JPG           other         0.692549\n",
      "4  D:/iPhone_pictures/2018-08/IMG_5249.JPG         fashion         0.534056\n",
      "Wall time: 1min 44s\n"
     ]
    }
   ],
   "source": [
    "%%time\n",
    "\n",
    "output_dir = r'D:\\work\\keras_iPhone_pictures\\01_classes_results_tfgpu_py36\\20190310\\train_all'\n",
    "load_model = keras.models.load_model(os.path.join(output_dir, 'finetuning.h5'), compile=False)\n",
    "\n",
    "img_rows, img_cols, channels=331, 331, 3\n",
    "classes = ['beagle', 'bikini', 'boke', 'cat', 'comic_book', 'fashion', 'marin', 'other', 'shingo', 'suit', 'tumblr']\n",
    "\n",
    "# 出力先ディレクトリ\n",
    "pred_output_dir = os.path.join(output_dir, 'prediction', '2018-08')\n",
    "os.makedirs(pred_output_dir, exist_ok=True)\n",
    "\n",
    "data_dir = r'D:\\iPhone_pictures\\2018-08'\n",
    "img_paths = util.get_jpg_png_path_in_dir(data_dir)\n",
    "\n",
    "# 1件づつpredictして、予測結果のデータフレームを返す\n",
    "pred_df = base_predict.pred_tta_from_paths(load_model, img_paths, img_rows, img_cols, classes=classes, show_img=False\n",
    "                                           , TTA=''\n",
    "                                           , TTA_rotate_deg=0\n",
    "                                           , TTA_crop_num=0, TTA_crop_size=[0, 0]\n",
    "                                           , preprocess=1.0/255.0)\n",
    "\n",
    "# 予測結果のデータフレーム出力\n",
    "pred_df.to_csv(os.path.join(pred_output_dir, 'pred.tsv'), sep='\\t')\n",
    "print(pred_df.head())"
   ]
  },
  {
   "cell_type": "markdown",
   "metadata": {},
   "source": [
    "## base_predict.copy_pred_img_by_pred_df\n",
    "- 予測結果のデータフレームから、予測ラベルごとに出力先ディレクトリを分けて、予測した画像コピーする"
   ]
  },
  {
   "cell_type": "code",
   "execution_count": 2,
   "metadata": {},
   "outputs": [
    {
     "name": "stderr",
     "output_type": "stream",
     "text": [
      "537it [00:02, 219.60it/s]\n"
     ]
    }
   ],
   "source": [
    "output_dir = r'D:\\work\\keras_iPhone_pictures\\01_classes_results_tfgpu_py36\\20190310\\train_all'\n",
    "\n",
    "# 予測結果のデータフレーム\n",
    "pred_output_dir = os.path.join(output_dir, 'prediction', '2018-08')\n",
    "pred_df = pd.read_csv(os.path.join(pred_output_dir, 'pred.tsv'), sep='\\t')\n",
    "\n",
    "# 出力先ディレクトリ\n",
    "pred_img_output_dir = os.path.join(output_dir, 'prediction_cp_img', '2018-08')\n",
    "os.makedirs(pred_output_dir, exist_ok=True)\n",
    "\n",
    "# 予測ラベルごとに出力先ディレクトリを分けて、予測した画像コピー\n",
    "base_predict.copy_pred_img_by_pred_df(pred_img_output_dir, pred_df)"
   ]
  },
  {
   "cell_type": "code",
   "execution_count": null,
   "metadata": {},
   "outputs": [],
   "source": []
  }
 ],
 "metadata": {
  "kernelspec": {
   "display_name": "Python 3",
   "language": "python",
   "name": "python3"
  },
  "language_info": {
   "codemirror_mode": {
    "name": "ipython",
    "version": 3
   },
   "file_extension": ".py",
   "mimetype": "text/x-python",
   "name": "python",
   "nbconvert_exporter": "python",
   "pygments_lexer": "ipython3",
   "version": "3.6.8"
  }
 },
 "nbformat": 4,
 "nbformat_minor": 2
}
