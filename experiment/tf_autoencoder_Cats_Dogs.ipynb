{
 "cells": [
  {
   "cell_type": "code",
   "execution_count": 1,
   "metadata": {},
   "outputs": [
    {
     "name": "stdout",
     "output_type": "stream",
     "text": [
      "/c/Users/shingo/jupyter_notebook/tfgpu_py36_work/02_keras_py/experiment\n"
     ]
    },
    {
     "data": {
      "text/html": [
       "<style>.container { width:96% !important; }</style>"
      ],
      "text/plain": [
       "<IPython.core.display.HTML object>"
      ]
     },
     "metadata": {},
     "output_type": "display_data"
    },
    {
     "data": {
      "text/plain": [
       "'C:\\\\Users\\\\shingo\\\\Anaconda3\\\\envs\\\\tfgpu20\\\\python.exe'"
      ]
     },
     "execution_count": 1,
     "metadata": {},
     "output_type": "execute_result"
    }
   ],
   "source": [
    "!pwd\n",
    "\n",
    "from IPython.core.display import display, HTML\n",
    "display(HTML(\"<style>.container { width:96% !important; }</style>\"))# デフォルトは75%\n",
    "\n",
    "import sys\n",
    "sys.executable"
   ]
  },
  {
   "cell_type": "markdown",
   "metadata": {},
   "source": [
    "# Keras、TensorFlow、およびDeep Learningを使用してオートエンコーダーを実装およびトレーニングする方法を学習\n",
    "- https://www.pyimagesearch.com/2020/02/17/autoencoders-with-keras-tensorflow-and-deep-learning/\n",
    "\n",
    "\n",
    "### オートエンコーダーとは: 教師なしニューラルネットワークの一種\n",
    "- input→入力データをn次元ベクトルに圧縮→入力データを再構築\n",
    "- いわゆる、オートエンコーダは、その入力を再構築するネットワーク\n",
    "        \n",
    "- 2つのコンポーネント/サブネットワークを持つオートエンコーダーを考える\n",
    "    - エンコーダー：入力データを受け入れ、潜在スペースに圧縮\n",
    "    - デコーダー：デコーダーは、潜在空間表現を受け入れs、元の入力を再構築\n",
    "    \n",
    "- オートエンコーダの真の価値はその潜在空間表現内に存在→MNISTなら28 x 28 = 784の値をオートエンコーダーなら16個のベクトルに圧縮することができる\n",
    "\n",
    "### オートエンコーダーの用途\n",
    "- 次元削減\n",
    "- ノイズ除去（例: ノイズ除去及びOCRの精度を向上させるために画像を前処理）\n",
    "- 異常/異常値の検出（例：データセット内の誤ったラベルの付いたデータポイントの検出、または入力データポイントが通常のデータ分布から大きく外れたときの検出）\n",
    "\n",
    "\n",
    "### オートエンコーダーはGANとどのように違いますか？→オートエンコーダーは全くの新しいデータ生成はできない（Ganはできる）。オートエンコーダーはあくまでデータを潜在空間表現に圧縮してノイズ除去、異常検出などに使用する\n",
    "- GANとオートエンコーダーはどちらも生成モデル\n",
    "    - GANの生成モデルは「偽の」画像を生成し、それが実際の「実際の」画像と混合されます。識別モデルは、どの画像が「実際の」対「偽/生成」かを判断する必要があります。\n",
    "    - 生成モデルが判別器を欺くことができる偽の画像を生成することがますます良くなるにつれて、損失の状況は進化し、変化します（これがGANのトレーニングが非常に難しい理由の1つです）。"
   ]
  },
  {
   "cell_type": "code",
   "execution_count": 2,
   "metadata": {},
   "outputs": [],
   "source": [
    "import tensorflow\n",
    "from tensorflow import keras\n",
    "from tensorflow.keras.optimizers import Adam\n",
    "from tensorflow.keras.datasets import mnist\n",
    "import matplotlib.pyplot as plt\n",
    "import numpy as np\n",
    "import argparse\n",
    "import cv2\n",
    "import matplotlib\n",
    "%matplotlib inline"
   ]
  },
  {
   "cell_type": "code",
   "execution_count": 3,
   "metadata": {
    "tags": [
     "parameters"
    ]
   },
   "outputs": [],
   "source": [
    "EPOCHS = 100\n",
    "BS = 32\n",
    "width, height, depth = 100, 100, 3\n",
    "filters = (32, 64) # この2層のfilterならinputとoutput同じサイズになる、層増やすとサイズずれてエラーになる\n",
    "latentDim = 256#16\n",
    "samples = 8\n",
    "\n",
    "# 出力ディレクトリ\n",
    "output_dir = r'D:\\work\\kaggle_data\\tf_Cats_VS._Dogs\\results\\tf_Cats_VS._Dogs_test'\n",
    "# 入力ディレクトリ\n",
    "train_data_dir = r'D:\\work\\kaggle_data\\Cats_VS._Dogs\\images\\small_set\\train'\n",
    "validation_data_dir = r'D:\\work\\kaggle_data\\Cats_VS._Dogs\\images\\small_set\\validation'\n",
    "# テスト画像ディレクトリ\n",
    "test_dir = r'D:\\work\\kaggle_data\\Cats_VS._Dogs\\images\\small_set\\test'"
   ]
  },
  {
   "cell_type": "code",
   "execution_count": 4,
   "metadata": {},
   "outputs": [],
   "source": [
    "#print(\"[INFO] loading MNIST dataset...\")\n",
    "#((trainX, _), (testX, _)) = mnist.load_data()\n",
    "#\n",
    "#trainX = np.expand_dims(trainX, axis=-1)\n",
    "#testX = np.expand_dims(testX, axis=-1)\n",
    "#trainX = trainX.astype(\"float32\") / 255.0\n",
    "#testX = testX.astype(\"float32\") / 255.0"
   ]
  },
  {
   "cell_type": "code",
   "execution_count": 6,
   "metadata": {},
   "outputs": [],
   "source": [
    "import os, sys, glob, pathlib\n",
    "sys.path.append(r'C:\\Users\\shingo\\jupyter_notebook\\tfgpu_py36_work\\02_keras_py')\n",
    "from dataset import util\n",
    "from transformer import tf_my_generator as my_generator\n",
    "from transformer import tf_get_train_valid_test as get_train_valid_test\n",
    "from model import tf_my_callback as my_callback\n",
    "from model.tf_convautoencoder import ConvAutoencoder\n",
    "%reload_ext autoreload\n",
    "%autoreload 2\n",
    "\n",
    "train_sample_paths = util.find_img_files(train_data_dir)\n",
    "val_sample_paths = util.find_img_files(validation_data_dir)\n",
    "test_sample_paths = util.find_img_files(test_dir)\n",
    "\n",
    "shape = [width, height, depth]\n",
    "\n",
    "def load_image(filename, shape, rescale_factor=1./255.):\n",
    "    \"\"\"サイズ指定して画像を読み込んでnumpy.arrayに変換\"\"\"\n",
    "    img = keras.preprocessing.image.load_img(filename, target_size=shape[:2])\n",
    "    return keras.preprocessing.image.img_to_array(img) * rescale_factor\n",
    "    \n",
    "trainX = np.array([load_image(filename, shape) for filename in train_sample_paths])\n",
    "validX = np.array([load_image(filename, shape) for filename in val_sample_paths])\n",
    "testX = np.array([load_image(filename, shape) for filename in test_sample_paths])"
   ]
  },
  {
   "cell_type": "code",
   "execution_count": 7,
   "metadata": {},
   "outputs": [],
   "source": [
    "os.makedirs(output_dir, exist_ok=True)\n",
    "plot = os.path.join(output_dir, 'Cats_Dogs_plot.png')\n",
    "output = os.path.join(output_dir, 'Cats_Dogs_output.png')\n",
    "model_path = os.path.join(output_dir, 'Cats_Dogs_model.h5')\n",
    "\n",
    "args = {}\n",
    "args['samples'] = samples\n",
    "args['plot'] = plot\n",
    "args['output'] = output"
   ]
  },
  {
   "cell_type": "code",
   "execution_count": 8,
   "metadata": {},
   "outputs": [
    {
     "name": "stdout",
     "output_type": "stream",
     "text": [
      "[INFO] building autoencoder...\n"
     ]
    }
   ],
   "source": [
    "# construct our convolutional autoencoder\n",
    "print(\"[INFO] building autoencoder...\")\n",
    "(encoder, decoder, autoencoder) = ConvAutoencoder.build(width, height, depth\n",
    "                                                        , filters=filters, latentDim=latentDim)\n",
    "opt = Adam(lr=1e-3)\n",
    "autoencoder.compile(loss=\"mse\", optimizer=opt)"
   ]
  },
  {
   "cell_type": "code",
   "execution_count": 9,
   "metadata": {
    "scrolled": true
   },
   "outputs": [
    {
     "name": "stdout",
     "output_type": "stream",
     "text": [
      "Model: \"encoder\"\n",
      "_________________________________________________________________\n",
      "Layer (type)                 Output Shape              Param #   \n",
      "=================================================================\n",
      "input_1 (InputLayer)         [(None, 100, 100, 3)]     0         \n",
      "_________________________________________________________________\n",
      "conv2d (Conv2D)              (None, 50, 50, 32)        896       \n",
      "_________________________________________________________________\n",
      "leaky_re_lu (LeakyReLU)      (None, 50, 50, 32)        0         \n",
      "_________________________________________________________________\n",
      "batch_normalization (BatchNo (None, 50, 50, 32)        128       \n",
      "_________________________________________________________________\n",
      "conv2d_1 (Conv2D)            (None, 25, 25, 64)        18496     \n",
      "_________________________________________________________________\n",
      "leaky_re_lu_1 (LeakyReLU)    (None, 25, 25, 64)        0         \n",
      "_________________________________________________________________\n",
      "batch_normalization_1 (Batch (None, 25, 25, 64)        256       \n",
      "_________________________________________________________________\n",
      "flatten (Flatten)            (None, 40000)             0         \n",
      "_________________________________________________________________\n",
      "dense (Dense)                (None, 256)               10240256  \n",
      "=================================================================\n",
      "Total params: 10,260,032\n",
      "Trainable params: 10,259,840\n",
      "Non-trainable params: 192\n",
      "_________________________________________________________________\n"
     ]
    }
   ],
   "source": [
    "encoder.summary()"
   ]
  },
  {
   "cell_type": "code",
   "execution_count": 10,
   "metadata": {
    "scrolled": true
   },
   "outputs": [
    {
     "name": "stdout",
     "output_type": "stream",
     "text": [
      "Model: \"decoder\"\n",
      "_________________________________________________________________\n",
      "Layer (type)                 Output Shape              Param #   \n",
      "=================================================================\n",
      "input_2 (InputLayer)         [(None, 256)]             0         \n",
      "_________________________________________________________________\n",
      "dense_1 (Dense)              (None, 40000)             10280000  \n",
      "_________________________________________________________________\n",
      "reshape (Reshape)            (None, 25, 25, 64)        0         \n",
      "_________________________________________________________________\n",
      "conv2d_transpose (Conv2DTran (None, 50, 50, 64)        36928     \n",
      "_________________________________________________________________\n",
      "leaky_re_lu_2 (LeakyReLU)    (None, 50, 50, 64)        0         \n",
      "_________________________________________________________________\n",
      "batch_normalization_2 (Batch (None, 50, 50, 64)        256       \n",
      "_________________________________________________________________\n",
      "conv2d_transpose_1 (Conv2DTr (None, 100, 100, 32)      18464     \n",
      "_________________________________________________________________\n",
      "leaky_re_lu_3 (LeakyReLU)    (None, 100, 100, 32)      0         \n",
      "_________________________________________________________________\n",
      "batch_normalization_3 (Batch (None, 100, 100, 32)      128       \n",
      "_________________________________________________________________\n",
      "conv2d_transpose_2 (Conv2DTr (None, 100, 100, 3)       867       \n",
      "_________________________________________________________________\n",
      "activation (Activation)      (None, 100, 100, 3)       0         \n",
      "=================================================================\n",
      "Total params: 10,336,643\n",
      "Trainable params: 10,336,451\n",
      "Non-trainable params: 192\n",
      "_________________________________________________________________\n"
     ]
    }
   ],
   "source": [
    "decoder.summary()"
   ]
  },
  {
   "cell_type": "code",
   "execution_count": 11,
   "metadata": {
    "scrolled": true
   },
   "outputs": [
    {
     "name": "stdout",
     "output_type": "stream",
     "text": [
      "Model: \"autoencoder\"\n",
      "_________________________________________________________________\n",
      "Layer (type)                 Output Shape              Param #   \n",
      "=================================================================\n",
      "input_1 (InputLayer)         [(None, 100, 100, 3)]     0         \n",
      "_________________________________________________________________\n",
      "encoder (Model)              (None, 256)               10260032  \n",
      "_________________________________________________________________\n",
      "decoder (Model)              (None, 100, 100, 3)       10336643  \n",
      "=================================================================\n",
      "Total params: 20,596,675\n",
      "Trainable params: 20,596,291\n",
      "Non-trainable params: 384\n",
      "_________________________________________________________________\n"
     ]
    }
   ],
   "source": [
    "autoencoder.summary()"
   ]
  },
  {
   "cell_type": "code",
   "execution_count": 12,
   "metadata": {
    "scrolled": true
   },
   "outputs": [
    {
     "name": "stdout",
     "output_type": "stream",
     "text": [
      "Train on 1000 samples, validate on 400 samples\n",
      "Epoch 1/100\n",
      "1000/1000 [==============================] - 4s 4ms/sample - loss: 0.0573 - val_loss: 0.0642\n",
      "Epoch 2/100\n",
      "1000/1000 [==============================] - 1s 1ms/sample - loss: 0.0339 - val_loss: 0.0587\n",
      "Epoch 3/100\n",
      "1000/1000 [==============================] - 1s 1ms/sample - loss: 0.0278 - val_loss: 0.0568\n",
      "Epoch 4/100\n",
      "1000/1000 [==============================] - 1s 1ms/sample - loss: 0.0244 - val_loss: 0.0571\n",
      "Epoch 5/100\n",
      "1000/1000 [==============================] - 1s 1ms/sample - loss: 0.0224 - val_loss: 0.0558\n",
      "Epoch 6/100\n",
      "1000/1000 [==============================] - 1s 1ms/sample - loss: 0.0208 - val_loss: 0.0535\n",
      "Epoch 7/100\n",
      "1000/1000 [==============================] - 1s 1ms/sample - loss: 0.0193 - val_loss: 0.0501\n",
      "Epoch 8/100\n",
      "1000/1000 [==============================] - 1s 1ms/sample - loss: 0.0183 - val_loss: 0.0460\n",
      "Epoch 9/100\n",
      "1000/1000 [==============================] - 1s 1ms/sample - loss: 0.0172 - val_loss: 0.0454\n",
      "Epoch 10/100\n",
      "1000/1000 [==============================] - 1s 1ms/sample - loss: 0.0162 - val_loss: 0.0413\n",
      "Epoch 11/100\n",
      "1000/1000 [==============================] - 1s 1ms/sample - loss: 0.0152 - val_loss: 0.0427\n",
      "Epoch 12/100\n",
      "1000/1000 [==============================] - 1s 1ms/sample - loss: 0.0144 - val_loss: 0.0347\n",
      "Epoch 13/100\n",
      "1000/1000 [==============================] - 1s 1ms/sample - loss: 0.0138 - val_loss: 0.0325\n",
      "Epoch 14/100\n",
      "1000/1000 [==============================] - 1s 1ms/sample - loss: 0.0134 - val_loss: 0.0297\n",
      "Epoch 15/100\n",
      "1000/1000 [==============================] - 1s 1ms/sample - loss: 0.0125 - val_loss: 0.0270\n",
      "Epoch 16/100\n",
      "1000/1000 [==============================] - 1s 1ms/sample - loss: 0.0117 - val_loss: 0.0253\n",
      "Epoch 17/100\n",
      "1000/1000 [==============================] - 1s 1ms/sample - loss: 0.0109 - val_loss: 0.0230\n",
      "Epoch 18/100\n",
      "1000/1000 [==============================] - 1s 1ms/sample - loss: 0.0106 - val_loss: 0.0239\n",
      "Epoch 19/100\n",
      "1000/1000 [==============================] - 1s 1ms/sample - loss: 0.0105 - val_loss: 0.0181\n",
      "Epoch 20/100\n",
      "1000/1000 [==============================] - 1s 1ms/sample - loss: 0.0100 - val_loss: 0.0180\n",
      "Epoch 21/100\n",
      "1000/1000 [==============================] - 1s 1ms/sample - loss: 0.0093 - val_loss: 0.0192\n",
      "Epoch 22/100\n",
      "1000/1000 [==============================] - 1s 1ms/sample - loss: 0.0090 - val_loss: 0.0164\n",
      "Epoch 23/100\n",
      "1000/1000 [==============================] - 1s 1ms/sample - loss: 0.0089 - val_loss: 0.0169\n",
      "Epoch 24/100\n",
      "1000/1000 [==============================] - 1s 1ms/sample - loss: 0.0084 - val_loss: 0.0167\n",
      "Epoch 25/100\n",
      "1000/1000 [==============================] - 1s 1ms/sample - loss: 0.0083 - val_loss: 0.0172\n",
      "Epoch 26/100\n",
      "1000/1000 [==============================] - 1s 1ms/sample - loss: 0.0079 - val_loss: 0.0169\n",
      "Epoch 27/100\n",
      "1000/1000 [==============================] - 1s 1ms/sample - loss: 0.0072 - val_loss: 0.0177\n",
      "Epoch 28/100\n",
      "1000/1000 [==============================] - 1s 1ms/sample - loss: 0.0073 - val_loss: 0.0171\n",
      "Epoch 29/100\n",
      "1000/1000 [==============================] - 1s 1ms/sample - loss: 0.0072 - val_loss: 0.0179\n",
      "Epoch 30/100\n",
      "1000/1000 [==============================] - 1s 1ms/sample - loss: 0.0069 - val_loss: 0.0174\n",
      "Epoch 31/100\n",
      "1000/1000 [==============================] - 1s 1ms/sample - loss: 0.0067 - val_loss: 0.0174\n",
      "Epoch 32/100\n",
      "1000/1000 [==============================] - 1s 1ms/sample - loss: 0.0064 - val_loss: 0.0170\n",
      "Epoch 33/100\n",
      "1000/1000 [==============================] - 1s 1ms/sample - loss: 0.0063 - val_loss: 0.0168\n",
      "Epoch 34/100\n",
      "1000/1000 [==============================] - 1s 1ms/sample - loss: 0.0061 - val_loss: 0.0191\n",
      "Epoch 35/100\n",
      "1000/1000 [==============================] - 1s 1ms/sample - loss: 0.0060 - val_loss: 0.0167\n",
      "Epoch 36/100\n",
      "1000/1000 [==============================] - 1s 1ms/sample - loss: 0.0058 - val_loss: 0.0172\n",
      "Epoch 37/100\n",
      "1000/1000 [==============================] - 1s 1ms/sample - loss: 0.0057 - val_loss: 0.0174\n",
      "Epoch 38/100\n",
      "1000/1000 [==============================] - 1s 1ms/sample - loss: 0.0057 - val_loss: 0.0172\n",
      "Epoch 39/100\n",
      "1000/1000 [==============================] - 1s 1ms/sample - loss: 0.0058 - val_loss: 0.0179\n",
      "Epoch 40/100\n",
      "1000/1000 [==============================] - 1s 1ms/sample - loss: 0.0057 - val_loss: 0.0171\n",
      "Epoch 41/100\n",
      "1000/1000 [==============================] - 1s 1ms/sample - loss: 0.0056 - val_loss: 0.0174\n",
      "Epoch 42/100\n",
      "1000/1000 [==============================] - 1s 1ms/sample - loss: 0.0054 - val_loss: 0.0167\n",
      "Epoch 43/100\n",
      "1000/1000 [==============================] - 1s 1ms/sample - loss: 0.0054 - val_loss: 0.0165\n",
      "Epoch 44/100\n",
      "1000/1000 [==============================] - 1s 1ms/sample - loss: 0.0049 - val_loss: 0.0175\n",
      "Epoch 45/100\n",
      "1000/1000 [==============================] - 1s 1ms/sample - loss: 0.0049 - val_loss: 0.0179\n",
      "Epoch 46/100\n",
      "1000/1000 [==============================] - 1s 1ms/sample - loss: 0.0050 - val_loss: 0.0171\n",
      "Epoch 47/100\n",
      "1000/1000 [==============================] - 1s 1ms/sample - loss: 0.0049 - val_loss: 0.0179\n",
      "Epoch 48/100\n",
      "1000/1000 [==============================] - 1s 1ms/sample - loss: 0.0050 - val_loss: 0.0169\n",
      "Epoch 49/100\n",
      "1000/1000 [==============================] - 1s 1ms/sample - loss: 0.0045 - val_loss: 0.0165\n",
      "Epoch 50/100\n",
      "1000/1000 [==============================] - 1s 1ms/sample - loss: 0.0045 - val_loss: 0.0167\n",
      "Epoch 51/100\n",
      "1000/1000 [==============================] - 1s 1ms/sample - loss: 0.0044 - val_loss: 0.0178\n",
      "Epoch 52/100\n",
      "1000/1000 [==============================] - 1s 1ms/sample - loss: 0.0046 - val_loss: 0.0171\n",
      "Epoch 53/100\n",
      "1000/1000 [==============================] - 1s 1ms/sample - loss: 0.0043 - val_loss: 0.0166\n",
      "Epoch 54/100\n",
      "1000/1000 [==============================] - 1s 1ms/sample - loss: 0.0044 - val_loss: 0.0169\n",
      "Epoch 55/100\n",
      "1000/1000 [==============================] - 1s 1ms/sample - loss: 0.0042 - val_loss: 0.0171\n",
      "Epoch 56/100\n",
      "1000/1000 [==============================] - 1s 1ms/sample - loss: 0.0041 - val_loss: 0.0166\n",
      "Epoch 57/100\n",
      "1000/1000 [==============================] - 1s 1ms/sample - loss: 0.0041 - val_loss: 0.0168\n",
      "Epoch 58/100\n",
      "1000/1000 [==============================] - 1s 1ms/sample - loss: 0.0039 - val_loss: 0.0168\n",
      "Epoch 59/100\n",
      "1000/1000 [==============================] - 1s 1ms/sample - loss: 0.0040 - val_loss: 0.0170\n",
      "Epoch 60/100\n",
      "1000/1000 [==============================] - 1s 1ms/sample - loss: 0.0041 - val_loss: 0.0176\n",
      "Epoch 61/100\n",
      "1000/1000 [==============================] - 1s 1ms/sample - loss: 0.0038 - val_loss: 0.0168\n",
      "Epoch 62/100\n",
      "1000/1000 [==============================] - 1s 1ms/sample - loss: 0.0040 - val_loss: 0.0169\n",
      "Epoch 63/100\n",
      "1000/1000 [==============================] - 1s 1ms/sample - loss: 0.0042 - val_loss: 0.0176\n",
      "Epoch 64/100\n",
      "1000/1000 [==============================] - 1s 1ms/sample - loss: 0.0043 - val_loss: 0.0176\n",
      "Epoch 65/100\n",
      "1000/1000 [==============================] - 1s 1ms/sample - loss: 0.0041 - val_loss: 0.0175\n",
      "Epoch 66/100\n",
      "1000/1000 [==============================] - 1s 1ms/sample - loss: 0.0037 - val_loss: 0.0168\n",
      "Epoch 67/100\n",
      "1000/1000 [==============================] - 1s 1ms/sample - loss: 0.0036 - val_loss: 0.0174\n",
      "Epoch 68/100\n",
      "1000/1000 [==============================] - 1s 1ms/sample - loss: 0.0035 - val_loss: 0.0179\n",
      "Epoch 69/100\n",
      "1000/1000 [==============================] - 1s 1ms/sample - loss: 0.0037 - val_loss: 0.0173\n",
      "Epoch 70/100\n",
      "1000/1000 [==============================] - 1s 1ms/sample - loss: 0.0038 - val_loss: 0.0170\n",
      "Epoch 71/100\n",
      "1000/1000 [==============================] - 1s 1ms/sample - loss: 0.0040 - val_loss: 0.0170\n",
      "Epoch 72/100\n",
      "1000/1000 [==============================] - 1s 1ms/sample - loss: 0.0038 - val_loss: 0.0170\n",
      "Epoch 73/100\n",
      "1000/1000 [==============================] - 1s 1ms/sample - loss: 0.0037 - val_loss: 0.0171\n",
      "Epoch 74/100\n",
      "1000/1000 [==============================] - 1s 1ms/sample - loss: 0.0035 - val_loss: 0.0175\n",
      "Epoch 75/100\n",
      "1000/1000 [==============================] - 1s 1ms/sample - loss: 0.0034 - val_loss: 0.0180\n",
      "Epoch 76/100\n",
      "1000/1000 [==============================] - 1s 1ms/sample - loss: 0.0037 - val_loss: 0.0177\n",
      "Epoch 77/100\n",
      "1000/1000 [==============================] - 1s 1ms/sample - loss: 0.0033 - val_loss: 0.0179\n"
     ]
    },
    {
     "name": "stdout",
     "output_type": "stream",
     "text": [
      "Epoch 78/100\n",
      "1000/1000 [==============================] - 1s 1ms/sample - loss: 0.0034 - val_loss: 0.0182\n",
      "Epoch 79/100\n",
      "1000/1000 [==============================] - 1s 1ms/sample - loss: 0.0033 - val_loss: 0.0178\n",
      "Epoch 80/100\n",
      "1000/1000 [==============================] - 1s 1ms/sample - loss: 0.0031 - val_loss: 0.0172\n",
      "Epoch 81/100\n",
      "1000/1000 [==============================] - 1s 1ms/sample - loss: 0.0031 - val_loss: 0.0166\n",
      "Epoch 82/100\n",
      "1000/1000 [==============================] - 1s 1ms/sample - loss: 0.0031 - val_loss: 0.0184\n",
      "Epoch 83/100\n",
      "1000/1000 [==============================] - 1s 1ms/sample - loss: 0.0031 - val_loss: 0.0174\n",
      "Epoch 84/100\n",
      "1000/1000 [==============================] - 1s 1ms/sample - loss: 0.0033 - val_loss: 0.0172\n",
      "Epoch 85/100\n",
      "1000/1000 [==============================] - 1s 1ms/sample - loss: 0.0033 - val_loss: 0.0176\n",
      "Epoch 86/100\n",
      "1000/1000 [==============================] - 1s 1ms/sample - loss: 0.0033 - val_loss: 0.0171\n",
      "Epoch 87/100\n",
      "1000/1000 [==============================] - 1s 1ms/sample - loss: 0.0034 - val_loss: 0.0172\n",
      "Epoch 88/100\n",
      "1000/1000 [==============================] - 1s 1ms/sample - loss: 0.0032 - val_loss: 0.0172\n",
      "Epoch 89/100\n",
      "1000/1000 [==============================] - 1s 1ms/sample - loss: 0.0030 - val_loss: 0.0167\n",
      "Epoch 90/100\n",
      "1000/1000 [==============================] - 1s 1ms/sample - loss: 0.0030 - val_loss: 0.0175\n",
      "Epoch 91/100\n",
      "1000/1000 [==============================] - 1s 1ms/sample - loss: 0.0029 - val_loss: 0.0170\n",
      "Epoch 92/100\n",
      "1000/1000 [==============================] - 1s 1ms/sample - loss: 0.0031 - val_loss: 0.0171\n",
      "Epoch 93/100\n",
      "1000/1000 [==============================] - 1s 1ms/sample - loss: 0.0029 - val_loss: 0.0167\n",
      "Epoch 94/100\n",
      "1000/1000 [==============================] - 1s 1ms/sample - loss: 0.0029 - val_loss: 0.0172\n",
      "Epoch 95/100\n",
      "1000/1000 [==============================] - 1s 1ms/sample - loss: 0.0027 - val_loss: 0.0175\n",
      "Epoch 96/100\n",
      "1000/1000 [==============================] - 1s 1ms/sample - loss: 0.0027 - val_loss: 0.0171\n",
      "Epoch 97/100\n",
      "1000/1000 [==============================] - 1s 1ms/sample - loss: 0.0029 - val_loss: 0.0171\n",
      "Epoch 98/100\n",
      "1000/1000 [==============================] - 1s 1ms/sample - loss: 0.0028 - val_loss: 0.0174\n",
      "Epoch 99/100\n",
      "1000/1000 [==============================] - 1s 1ms/sample - loss: 0.0027 - val_loss: 0.0176\n",
      "Epoch 100/100\n",
      "1000/1000 [==============================] - 1s 1ms/sample - loss: 0.0027 - val_loss: 0.0170\n",
      "Wall time: 2min 7s\n"
     ]
    }
   ],
   "source": [
    "%%time\n",
    "# train the convolutional autoencoder\n",
    "H = autoencoder.fit(trainX, trainX\n",
    "                    , validation_data=(validX, validX)\n",
    "                    , epochs=EPOCHS, batch_size=BS)"
   ]
  },
  {
   "cell_type": "code",
   "execution_count": 13,
   "metadata": {},
   "outputs": [
    {
     "data": {
      "image/png": "[encoded data removed]",
      "text/plain": [
       "<Figure size 432x288 with 1 Axes>"
      ]
     },
     "metadata": {},
     "output_type": "display_data"
    }
   ],
   "source": [
    "# construct a plot that plots and saves the training history\n",
    "N = np.arange(0, EPOCHS)\n",
    "plt.style.use(\"ggplot\")\n",
    "plt.figure()\n",
    "plt.plot(N, H.history[\"loss\"], label=\"train_loss\")\n",
    "plt.plot(N, H.history[\"val_loss\"], label=\"val_loss\")\n",
    "plt.title(\"Training Loss and Accuracy\")\n",
    "plt.xlabel(\"Epoch #\")\n",
    "plt.ylabel(\"Loss/Accuracy\")\n",
    "plt.legend(loc=\"lower left\")\n",
    "plt.savefig(args[\"plot\"])"
   ]
  },
  {
   "cell_type": "code",
   "execution_count": 14,
   "metadata": {},
   "outputs": [],
   "source": [
    "autoencoder.save(model_path)\n",
    "autoencoder = tensorflow.keras.models.load_model(model_path, compile=False)"
   ]
  },
  {
   "cell_type": "code",
   "execution_count": 15,
   "metadata": {},
   "outputs": [
    {
     "name": "stdout",
     "output_type": "stream",
     "text": [
      "[INFO] making predictions...\n"
     ]
    }
   ],
   "source": [
    "# use the convolutional autoencoder to make predictions on the\n",
    "# testing images, then initialize our list of output images\n",
    "print(\"[INFO] making predictions...\")\n",
    "decoded = autoencoder.predict(testX)\n",
    "outputs = None"
   ]
  },
  {
   "cell_type": "code",
   "execution_count": 16,
   "metadata": {},
   "outputs": [
    {
     "data": {
      "image/png": "[encoded data removed]",
      "text/plain": [
       "<Figure size 432x288 with 1 Axes>"
      ]
     },
     "metadata": {},
     "output_type": "display_data"
    }
   ],
   "source": [
    "# loop over our number of output samples\n",
    "for i in range(0, args[\"samples\"]):\n",
    "    # grab the original image and reconstructed image\n",
    "    original = (testX[i] * 255).astype(\"uint8\")\n",
    "    recon = (decoded[i] * 255).astype(\"uint8\")\n",
    "\n",
    "    # stack the original and reconstructed image side-by-side\n",
    "    output = np.hstack([original, recon])\n",
    "\n",
    "    # if the outputs array is empty, initialize it as the current\n",
    "    # side-by-side image display\n",
    "    if outputs is None:\n",
    "        outputs = output\n",
    "\n",
    "    # otherwise, vertically stack the outputs\n",
    "    else:\n",
    "        outputs = np.vstack([outputs, output])\n",
    "\n",
    "# save the outputs image to disk\n",
    "cv2.imwrite(args[\"output\"], outputs)\n",
    "\n",
    "im = cv2.imread(args[\"output\"])\n",
    "img_RGB = cv2.cvtColor(im, cv2.COLOR_BGR2RGB)\n",
    "im_list = np.asarray(img_RGB)\n",
    "plt.imshow(im_list)\n",
    "plt.show()"
   ]
  },
  {
   "cell_type": "code",
   "execution_count": null,
   "metadata": {},
   "outputs": [],
   "source": []
  }
 ],
 "metadata": {
  "celltoolbar": "Tags",
  "kernelspec": {
   "display_name": "Python 3",
   "language": "python",
   "name": "python3"
  },
  "language_info": {
   "codemirror_mode": {
    "name": "ipython",
    "version": 3
   },
   "file_extension": ".py",
   "mimetype": "text/x-python",
   "name": "python",
   "nbconvert_exporter": "python",
   "pygments_lexer": "ipython3",
   "version": "3.7.5"
  }
 },
 "nbformat": 4,
 "nbformat_minor": 2
}
